{
 "metadata": {
  "language_info": {
   "codemirror_mode": {
    "name": "ipython",
    "version": 3
   },
   "file_extension": ".py",
   "mimetype": "text/x-python",
   "name": "python",
   "nbconvert_exporter": "python",
   "pygments_lexer": "ipython3",
   "version": "3.7.7-final"
  },
  "orig_nbformat": 2,
  "kernelspec": {
   "name": "python37732bitmyenvcondacdd7653a66d44e76b9f4e68fbb6ca43c",
   "display_name": "Python 3.7.7 32-bit ('myenv': conda)"
  }
 },
 "nbformat": 4,
 "nbformat_minor": 2,
 "cells": [
  {
   "cell_type": "code",
   "execution_count": null,
   "metadata": {},
   "outputs": [],
   "source": [
    "#IGNORE FOR NOW"
   ]
  },
  {
   "cell_type": "code",
   "execution_count": null,
   "metadata": {},
   "outputs": [],
   "source": [
    "# This file include the following Data Wrangling activities:\n",
    "# - Binning\n",
    "# - Data normalisation\n",
    "# - Indicator (dummy) variable allocation\n",
    "\n",
    "# Other Data Wrangling activities covered in other files:\n",
    "# - Data cleaning\n",
    "\n",
    "# The following Data Wrangling activities were not performed on the dataset:\n",
    "# - Data standardisation - data were already in a similar format"
   ]
  },
  {
   "cell_type": "code",
   "execution_count": 1,
   "metadata": {},
   "outputs": [],
   "source": [
    "import pandas as pd \n",
    "import numpy as np"
   ]
  },
  {
   "cell_type": "code",
   "execution_count": 2,
   "metadata": {},
   "outputs": [],
   "source": [
    "#Import dataset\n",
    "AccidentData3 = pd.read_csv('E:\\Training Development\\Coursera\\IBM Data Science\\Course 9 - Capstone Project\\Capstone Project Data\\AccidentData_3.csv')"
   ]
  },
  {
   "cell_type": "code",
   "execution_count": 3,
   "metadata": {},
   "outputs": [
    {
     "output_type": "execute_result",
     "data": {
      "text/plain": "   OBJECTID  INCKEY  SEVERITYCODE                    SEVERITYDESC  \\\n0         1    1307             2                Injury Collision   \n1         2   52200             1  Property Damage Only Collision   \n2         3   26700             1  Property Damage Only Collision   \n3         4    1144             1  Property Damage Only Collision   \n4         5   17700             2                Injury Collision   \n\n  COLLISIONTYPE  PERSONCOUNT  PEDCOUNT  PEDCYLCOUNT  VEHCOUNT  \\\n0        Angles            2         0            0         2   \n1     Sideswipe            2         0            0         2   \n2    Parked Car            4         0            0         3   \n3         Other            3         0            0         3   \n4        Angles            2         0            0         2   \n\n                              JUNCTIONTYPE  WEATHER  ROADCOND  LIGHTCOND  \\\n0   At Intersection (intersection related)        1         9          3   \n1  Mid-Block (not related to intersection)        2         9          1   \n2  Mid-Block (not related to intersection)        1         1          3   \n3  Mid-Block (not related to intersection)        3         1          3   \n4   At Intersection (intersection related)        2         9          3   \n\n              Dates              Time  Day of week  Month of Year  \n0  2013/03/27 00:00  1900/01/01 14:54            2              3  \n1  2006/12/20 00:00  1900/01/01 18:55            2             12  \n2  2004/11/18 00:00  1900/01/01 10:20            3             11  \n3  2013/03/29 00:00  1900/01/01 09:26            4              3  \n4  2004/01/28 00:00  1900/01/01 08:04            2              1  ",
      "text/html": "<div>\n<style scoped>\n    .dataframe tbody tr th:only-of-type {\n        vertical-align: middle;\n    }\n\n    .dataframe tbody tr th {\n        vertical-align: top;\n    }\n\n    .dataframe thead th {\n        text-align: right;\n    }\n</style>\n<table border=\"1\" class=\"dataframe\">\n  <thead>\n    <tr style=\"text-align: right;\">\n      <th></th>\n      <th>OBJECTID</th>\n      <th>INCKEY</th>\n      <th>SEVERITYCODE</th>\n      <th>SEVERITYDESC</th>\n      <th>COLLISIONTYPE</th>\n      <th>PERSONCOUNT</th>\n      <th>PEDCOUNT</th>\n      <th>PEDCYLCOUNT</th>\n      <th>VEHCOUNT</th>\n      <th>JUNCTIONTYPE</th>\n      <th>WEATHER</th>\n      <th>ROADCOND</th>\n      <th>LIGHTCOND</th>\n      <th>Dates</th>\n      <th>Time</th>\n      <th>Day of week</th>\n      <th>Month of Year</th>\n    </tr>\n  </thead>\n  <tbody>\n    <tr>\n      <th>0</th>\n      <td>1</td>\n      <td>1307</td>\n      <td>2</td>\n      <td>Injury Collision</td>\n      <td>Angles</td>\n      <td>2</td>\n      <td>0</td>\n      <td>0</td>\n      <td>2</td>\n      <td>At Intersection (intersection related)</td>\n      <td>1</td>\n      <td>9</td>\n      <td>3</td>\n      <td>2013/03/27 00:00</td>\n      <td>1900/01/01 14:54</td>\n      <td>2</td>\n      <td>3</td>\n    </tr>\n    <tr>\n      <th>1</th>\n      <td>2</td>\n      <td>52200</td>\n      <td>1</td>\n      <td>Property Damage Only Collision</td>\n      <td>Sideswipe</td>\n      <td>2</td>\n      <td>0</td>\n      <td>0</td>\n      <td>2</td>\n      <td>Mid-Block (not related to intersection)</td>\n      <td>2</td>\n      <td>9</td>\n      <td>1</td>\n      <td>2006/12/20 00:00</td>\n      <td>1900/01/01 18:55</td>\n      <td>2</td>\n      <td>12</td>\n    </tr>\n    <tr>\n      <th>2</th>\n      <td>3</td>\n      <td>26700</td>\n      <td>1</td>\n      <td>Property Damage Only Collision</td>\n      <td>Parked Car</td>\n      <td>4</td>\n      <td>0</td>\n      <td>0</td>\n      <td>3</td>\n      <td>Mid-Block (not related to intersection)</td>\n      <td>1</td>\n      <td>1</td>\n      <td>3</td>\n      <td>2004/11/18 00:00</td>\n      <td>1900/01/01 10:20</td>\n      <td>3</td>\n      <td>11</td>\n    </tr>\n    <tr>\n      <th>3</th>\n      <td>4</td>\n      <td>1144</td>\n      <td>1</td>\n      <td>Property Damage Only Collision</td>\n      <td>Other</td>\n      <td>3</td>\n      <td>0</td>\n      <td>0</td>\n      <td>3</td>\n      <td>Mid-Block (not related to intersection)</td>\n      <td>3</td>\n      <td>1</td>\n      <td>3</td>\n      <td>2013/03/29 00:00</td>\n      <td>1900/01/01 09:26</td>\n      <td>4</td>\n      <td>3</td>\n    </tr>\n    <tr>\n      <th>4</th>\n      <td>5</td>\n      <td>17700</td>\n      <td>2</td>\n      <td>Injury Collision</td>\n      <td>Angles</td>\n      <td>2</td>\n      <td>0</td>\n      <td>0</td>\n      <td>2</td>\n      <td>At Intersection (intersection related)</td>\n      <td>2</td>\n      <td>9</td>\n      <td>3</td>\n      <td>2004/01/28 00:00</td>\n      <td>1900/01/01 08:04</td>\n      <td>2</td>\n      <td>1</td>\n    </tr>\n  </tbody>\n</table>\n</div>"
     },
     "metadata": {},
     "execution_count": 3
    }
   ],
   "source": [
    "AccidentData3.head()"
   ]
  },
  {
   "cell_type": "code",
   "execution_count": 4,
   "metadata": {},
   "outputs": [
    {
     "output_type": "execute_result",
     "data": {
      "text/plain": "189316"
     },
     "metadata": {},
     "execution_count": 4
    }
   ],
   "source": [
    "len(AccidentData3.index)"
   ]
  },
  {
   "cell_type": "code",
   "execution_count": 5,
   "metadata": {},
   "outputs": [
    {
     "output_type": "execute_result",
     "data": {
      "text/plain": "17"
     },
     "metadata": {},
     "execution_count": 5
    }
   ],
   "source": [
    "len(AccidentData3.columns)"
   ]
  },
  {
   "cell_type": "code",
   "execution_count": null,
   "metadata": {},
   "outputs": [],
   "source": [
    "# DATA NORMALISATION\n",
    "# Data normalisation is required to change the valuses of a numeric columns to a common scale.\n",
    "# Normalisation is only required withen features have different ranges.\n",
    "# Normalisation should not be used for categorical data.\n",
    "# The only data in the dataset that is not categorical relates to 'Dates' and 'Time'.\n",
    "# In the next section 'Time' data will be binned, and would therefore not require normalisation.\n",
    "# At this stage the 'Dates' columns will not be used for futher analysis."
   ]
  },
  {
   "cell_type": "code",
   "execution_count": null,
   "metadata": {},
   "outputs": [],
   "source": [
    "# DATA BINNING\n",
    "# At this stage, no data to be binned."
   ]
  },
  {
   "cell_type": "code",
   "execution_count": null,
   "metadata": {},
   "outputs": [],
   "source": [
    "# INDICATOR (DUMMY) VARIABLE ALLOCATION"
   ]
  },
  {
   "cell_type": "code",
   "execution_count": 6,
   "metadata": {},
   "outputs": [
    {
     "output_type": "execute_result",
     "data": {
      "text/plain": "OBJECTID          int64\nINCKEY            int64\nSEVERITYCODE      int64\nSEVERITYDESC     object\nCOLLISIONTYPE    object\nPERSONCOUNT       int64\nPEDCOUNT          int64\nPEDCYLCOUNT       int64\nVEHCOUNT          int64\nJUNCTIONTYPE     object\nWEATHER           int64\nROADCOND          int64\nLIGHTCOND         int64\nDates            object\nTime             object\nDay of week       int64\nMonth of Year     int64\ndtype: object"
     },
     "metadata": {},
     "execution_count": 6
    }
   ],
   "source": [
    "AccidentData3.dtypes"
   ]
  },
  {
   "cell_type": "code",
   "execution_count": null,
   "metadata": {},
   "outputs": [],
   "source": [
    "# The following columns will need to be converted to numerical values for analysis purposes:\n",
    "# - WEATHER\n",
    "# - ROADCOND\n",
    "# - LIGHTCOND"
   ]
  },
  {
   "cell_type": "code",
   "execution_count": null,
   "metadata": {},
   "outputs": [],
   "source": []
  }
 ]
}