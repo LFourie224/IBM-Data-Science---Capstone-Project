{
 "metadata": {
  "language_info": {
   "codemirror_mode": {
    "name": "ipython",
    "version": 3
   },
   "file_extension": ".py",
   "mimetype": "text/x-python",
   "name": "python",
   "nbconvert_exporter": "python",
   "pygments_lexer": "ipython3",
   "version": "3.7.7-final"
  },
  "orig_nbformat": 2,
  "kernelspec": {
   "name": "python37732bitmyenvcondacdd7653a66d44e76b9f4e68fbb6ca43c",
   "display_name": "Python 3.7.7 32-bit ('myenv': conda)"
  }
 },
 "nbformat": 4,
 "nbformat_minor": 2,
 "cells": [
  {
   "cell_type": "code",
   "execution_count": null,
   "metadata": {},
   "outputs": [],
   "source": [
    "#IGNORE FOR NOW"
   ]
  },
  {
   "cell_type": "code",
   "execution_count": 1,
   "metadata": {},
   "outputs": [],
   "source": [
    "import pandas as pd \n",
    "import numpy as np\n",
    "import itertools\n",
    "import matplotlib.pyplot as plt\n",
    "from matplotlib.ticker import NullFormatter\n",
    "from sklearn import preprocessing\n",
    "%matplotlib inline"
   ]
  },
  {
   "cell_type": "code",
   "execution_count": 33,
   "metadata": {},
   "outputs": [],
   "source": [
    "#AccidentData3 = pd.read_csv('E:\\Training Development\\Coursera\\IBM Data Science\\Course 9 - Capstone Project\\Capstone Project Data\\AccidentData_2.csv')"
   ]
  },
  {
   "cell_type": "code",
   "execution_count": 34,
   "metadata": {},
   "outputs": [
    {
     "output_type": "execute_result",
     "data": {
      "text/plain": "   OBJECTID  INCKEY  SEVERITYCODE                    SEVERITYDESC  \\\n0         1    1307             2                Injury Collision   \n1         2   52200             1  Property Damage Only Collision   \n2         3   26700             1  Property Damage Only Collision   \n3         4    1144             1  Property Damage Only Collision   \n4         5   17700             2                Injury Collision   \n\n  COLLISIONTYPE  PERSONCOUNT  PEDCOUNT  PEDCYLCOUNT  VEHCOUNT  \\\n0        Angles            2         0            0         2   \n1     Sideswipe            2         0            0         2   \n2    Parked Car            4         0            0         3   \n3         Other            3         0            0         3   \n4        Angles            2         0            0         2   \n\n                              JUNCTIONTYPE   WEATHER ROADCOND  \\\n0   At Intersection (intersection related)  Overcast      Wet   \n1  Mid-Block (not related to intersection)   Raining      Wet   \n2  Mid-Block (not related to intersection)  Overcast      Dry   \n3  Mid-Block (not related to intersection)     Clear      Dry   \n4   At Intersection (intersection related)   Raining      Wet   \n\n                 LIGHTCOND             Dates              Time  Day of week  \\\n0                 Daylight  2013/03/27 00:00  1900/01/01 14:54            2   \n1  Dark - Street Lights On  2006/12/20 00:00  1900/01/01 18:55            2   \n2                 Daylight  2004/11/18 00:00  1900/01/01 10:20            3   \n3                 Daylight  2013/03/29 00:00  1900/01/01 09:26            4   \n4                 Daylight  2004/01/28 00:00  1900/01/01 08:04            2   \n\n   Month of Year  \n0              3  \n1             12  \n2             11  \n3              3  \n4              1  ",
      "text/html": "<div>\n<style scoped>\n    .dataframe tbody tr th:only-of-type {\n        vertical-align: middle;\n    }\n\n    .dataframe tbody tr th {\n        vertical-align: top;\n    }\n\n    .dataframe thead th {\n        text-align: right;\n    }\n</style>\n<table border=\"1\" class=\"dataframe\">\n  <thead>\n    <tr style=\"text-align: right;\">\n      <th></th>\n      <th>OBJECTID</th>\n      <th>INCKEY</th>\n      <th>SEVERITYCODE</th>\n      <th>SEVERITYDESC</th>\n      <th>COLLISIONTYPE</th>\n      <th>PERSONCOUNT</th>\n      <th>PEDCOUNT</th>\n      <th>PEDCYLCOUNT</th>\n      <th>VEHCOUNT</th>\n      <th>JUNCTIONTYPE</th>\n      <th>WEATHER</th>\n      <th>ROADCOND</th>\n      <th>LIGHTCOND</th>\n      <th>Dates</th>\n      <th>Time</th>\n      <th>Day of week</th>\n      <th>Month of Year</th>\n    </tr>\n  </thead>\n  <tbody>\n    <tr>\n      <th>0</th>\n      <td>1</td>\n      <td>1307</td>\n      <td>2</td>\n      <td>Injury Collision</td>\n      <td>Angles</td>\n      <td>2</td>\n      <td>0</td>\n      <td>0</td>\n      <td>2</td>\n      <td>At Intersection (intersection related)</td>\n      <td>Overcast</td>\n      <td>Wet</td>\n      <td>Daylight</td>\n      <td>2013/03/27 00:00</td>\n      <td>1900/01/01 14:54</td>\n      <td>2</td>\n      <td>3</td>\n    </tr>\n    <tr>\n      <th>1</th>\n      <td>2</td>\n      <td>52200</td>\n      <td>1</td>\n      <td>Property Damage Only Collision</td>\n      <td>Sideswipe</td>\n      <td>2</td>\n      <td>0</td>\n      <td>0</td>\n      <td>2</td>\n      <td>Mid-Block (not related to intersection)</td>\n      <td>Raining</td>\n      <td>Wet</td>\n      <td>Dark - Street Lights On</td>\n      <td>2006/12/20 00:00</td>\n      <td>1900/01/01 18:55</td>\n      <td>2</td>\n      <td>12</td>\n    </tr>\n    <tr>\n      <th>2</th>\n      <td>3</td>\n      <td>26700</td>\n      <td>1</td>\n      <td>Property Damage Only Collision</td>\n      <td>Parked Car</td>\n      <td>4</td>\n      <td>0</td>\n      <td>0</td>\n      <td>3</td>\n      <td>Mid-Block (not related to intersection)</td>\n      <td>Overcast</td>\n      <td>Dry</td>\n      <td>Daylight</td>\n      <td>2004/11/18 00:00</td>\n      <td>1900/01/01 10:20</td>\n      <td>3</td>\n      <td>11</td>\n    </tr>\n    <tr>\n      <th>3</th>\n      <td>4</td>\n      <td>1144</td>\n      <td>1</td>\n      <td>Property Damage Only Collision</td>\n      <td>Other</td>\n      <td>3</td>\n      <td>0</td>\n      <td>0</td>\n      <td>3</td>\n      <td>Mid-Block (not related to intersection)</td>\n      <td>Clear</td>\n      <td>Dry</td>\n      <td>Daylight</td>\n      <td>2013/03/29 00:00</td>\n      <td>1900/01/01 09:26</td>\n      <td>4</td>\n      <td>3</td>\n    </tr>\n    <tr>\n      <th>4</th>\n      <td>5</td>\n      <td>17700</td>\n      <td>2</td>\n      <td>Injury Collision</td>\n      <td>Angles</td>\n      <td>2</td>\n      <td>0</td>\n      <td>0</td>\n      <td>2</td>\n      <td>At Intersection (intersection related)</td>\n      <td>Raining</td>\n      <td>Wet</td>\n      <td>Daylight</td>\n      <td>2004/01/28 00:00</td>\n      <td>1900/01/01 08:04</td>\n      <td>2</td>\n      <td>1</td>\n    </tr>\n  </tbody>\n</table>\n</div>"
     },
     "metadata": {},
     "execution_count": 34
    }
   ],
   "source": [
    "AccidentData3.head()"
   ]
  },
  {
   "cell_type": "code",
   "execution_count": 35,
   "metadata": {},
   "outputs": [],
   "source": [
    "AccidentData3.WEATHER.replace(to_replace=['Overcast'],value='1', inplace = True)\n",
    "AccidentData3.WEATHER.replace(to_replace=['Raining'],value='2', inplace = True)\n",
    "AccidentData3.WEATHER.replace(to_replace=['Clear'],value='3', inplace = True)\n",
    "AccidentData3.WEATHER.replace(to_replace=['Blowing Sand/Dirt'],value='4', inplace = True)\n",
    "AccidentData3.WEATHER.replace(to_replace=['Fog/Smog/Smoke'],value='5', inplace = True)\n",
    "AccidentData3.WEATHER.replace(to_replace=['Other'],value='6', inplace = True)\n",
    "AccidentData3.WEATHER.replace(to_replace=['Partly Cloudy'],value='7', inplace = True)\n",
    "AccidentData3.WEATHER.replace(to_replace=['Severe Crosswind'],value='8', inplace = True)\n",
    "AccidentData3.WEATHER.replace(to_replace=['Sleet/Hail/Freezing Rain'],value='9', inplace = True)\n",
    "AccidentData3.WEATHER.replace(to_replace=['Snowing'],value='10', inplace = True)\n",
    "AccidentData3.WEATHER.replace(to_replace=['Unknown'],value='11', inplace = True)"
   ]
  },
  {
   "cell_type": "code",
   "execution_count": 36,
   "metadata": {},
   "outputs": [
    {
     "output_type": "execute_result",
     "data": {
      "text/plain": "   OBJECTID  INCKEY  SEVERITYCODE                    SEVERITYDESC  \\\n0         1    1307             2                Injury Collision   \n1         2   52200             1  Property Damage Only Collision   \n2         3   26700             1  Property Damage Only Collision   \n3         4    1144             1  Property Damage Only Collision   \n4         5   17700             2                Injury Collision   \n\n  COLLISIONTYPE  PERSONCOUNT  PEDCOUNT  PEDCYLCOUNT  VEHCOUNT  \\\n0        Angles            2         0            0         2   \n1     Sideswipe            2         0            0         2   \n2    Parked Car            4         0            0         3   \n3         Other            3         0            0         3   \n4        Angles            2         0            0         2   \n\n                              JUNCTIONTYPE WEATHER ROADCOND  \\\n0   At Intersection (intersection related)       1      Wet   \n1  Mid-Block (not related to intersection)       2      Wet   \n2  Mid-Block (not related to intersection)       1      Dry   \n3  Mid-Block (not related to intersection)       3      Dry   \n4   At Intersection (intersection related)       2      Wet   \n\n                 LIGHTCOND             Dates              Time  Day of week  \\\n0                 Daylight  2013/03/27 00:00  1900/01/01 14:54            2   \n1  Dark - Street Lights On  2006/12/20 00:00  1900/01/01 18:55            2   \n2                 Daylight  2004/11/18 00:00  1900/01/01 10:20            3   \n3                 Daylight  2013/03/29 00:00  1900/01/01 09:26            4   \n4                 Daylight  2004/01/28 00:00  1900/01/01 08:04            2   \n\n   Month of Year  \n0              3  \n1             12  \n2             11  \n3              3  \n4              1  ",
      "text/html": "<div>\n<style scoped>\n    .dataframe tbody tr th:only-of-type {\n        vertical-align: middle;\n    }\n\n    .dataframe tbody tr th {\n        vertical-align: top;\n    }\n\n    .dataframe thead th {\n        text-align: right;\n    }\n</style>\n<table border=\"1\" class=\"dataframe\">\n  <thead>\n    <tr style=\"text-align: right;\">\n      <th></th>\n      <th>OBJECTID</th>\n      <th>INCKEY</th>\n      <th>SEVERITYCODE</th>\n      <th>SEVERITYDESC</th>\n      <th>COLLISIONTYPE</th>\n      <th>PERSONCOUNT</th>\n      <th>PEDCOUNT</th>\n      <th>PEDCYLCOUNT</th>\n      <th>VEHCOUNT</th>\n      <th>JUNCTIONTYPE</th>\n      <th>WEATHER</th>\n      <th>ROADCOND</th>\n      <th>LIGHTCOND</th>\n      <th>Dates</th>\n      <th>Time</th>\n      <th>Day of week</th>\n      <th>Month of Year</th>\n    </tr>\n  </thead>\n  <tbody>\n    <tr>\n      <th>0</th>\n      <td>1</td>\n      <td>1307</td>\n      <td>2</td>\n      <td>Injury Collision</td>\n      <td>Angles</td>\n      <td>2</td>\n      <td>0</td>\n      <td>0</td>\n      <td>2</td>\n      <td>At Intersection (intersection related)</td>\n      <td>1</td>\n      <td>Wet</td>\n      <td>Daylight</td>\n      <td>2013/03/27 00:00</td>\n      <td>1900/01/01 14:54</td>\n      <td>2</td>\n      <td>3</td>\n    </tr>\n    <tr>\n      <th>1</th>\n      <td>2</td>\n      <td>52200</td>\n      <td>1</td>\n      <td>Property Damage Only Collision</td>\n      <td>Sideswipe</td>\n      <td>2</td>\n      <td>0</td>\n      <td>0</td>\n      <td>2</td>\n      <td>Mid-Block (not related to intersection)</td>\n      <td>2</td>\n      <td>Wet</td>\n      <td>Dark - Street Lights On</td>\n      <td>2006/12/20 00:00</td>\n      <td>1900/01/01 18:55</td>\n      <td>2</td>\n      <td>12</td>\n    </tr>\n    <tr>\n      <th>2</th>\n      <td>3</td>\n      <td>26700</td>\n      <td>1</td>\n      <td>Property Damage Only Collision</td>\n      <td>Parked Car</td>\n      <td>4</td>\n      <td>0</td>\n      <td>0</td>\n      <td>3</td>\n      <td>Mid-Block (not related to intersection)</td>\n      <td>1</td>\n      <td>Dry</td>\n      <td>Daylight</td>\n      <td>2004/11/18 00:00</td>\n      <td>1900/01/01 10:20</td>\n      <td>3</td>\n      <td>11</td>\n    </tr>\n    <tr>\n      <th>3</th>\n      <td>4</td>\n      <td>1144</td>\n      <td>1</td>\n      <td>Property Damage Only Collision</td>\n      <td>Other</td>\n      <td>3</td>\n      <td>0</td>\n      <td>0</td>\n      <td>3</td>\n      <td>Mid-Block (not related to intersection)</td>\n      <td>3</td>\n      <td>Dry</td>\n      <td>Daylight</td>\n      <td>2013/03/29 00:00</td>\n      <td>1900/01/01 09:26</td>\n      <td>4</td>\n      <td>3</td>\n    </tr>\n    <tr>\n      <th>4</th>\n      <td>5</td>\n      <td>17700</td>\n      <td>2</td>\n      <td>Injury Collision</td>\n      <td>Angles</td>\n      <td>2</td>\n      <td>0</td>\n      <td>0</td>\n      <td>2</td>\n      <td>At Intersection (intersection related)</td>\n      <td>2</td>\n      <td>Wet</td>\n      <td>Daylight</td>\n      <td>2004/01/28 00:00</td>\n      <td>1900/01/01 08:04</td>\n      <td>2</td>\n      <td>1</td>\n    </tr>\n  </tbody>\n</table>\n</div>"
     },
     "metadata": {},
     "execution_count": 36
    }
   ],
   "source": [
    "AccidentData3.head()"
   ]
  },
  {
   "cell_type": "code",
   "execution_count": 3,
   "metadata": {},
   "outputs": [
    {
     "output_type": "error",
     "ename": "NameError",
     "evalue": "name 'AccidentData3' is not defined",
     "traceback": [
      "\u001b[1;31m---------------------------------------------------------------------------\u001b[0m",
      "\u001b[1;31mNameError\u001b[0m                                 Traceback (most recent call last)",
      "\u001b[1;32m<ipython-input-3-0931f25cdf36>\u001b[0m in \u001b[0;36m<module>\u001b[1;34m\u001b[0m\n\u001b[1;32m----> 1\u001b[1;33m \u001b[0mWeatherData\u001b[0m \u001b[1;33m=\u001b[0m \u001b[0mAccidentData3\u001b[0m\u001b[1;33m[\u001b[0m\u001b[1;34m'WEATHER'\u001b[0m\u001b[1;33m]\u001b[0m\u001b[1;33m.\u001b[0m\u001b[0mvalue_counts\u001b[0m\u001b[1;33m(\u001b[0m\u001b[1;33m)\u001b[0m\u001b[1;33m\u001b[0m\u001b[1;33m\u001b[0m\u001b[0m\n\u001b[0m",
      "\u001b[1;31mNameError\u001b[0m: name 'AccidentData3' is not defined"
     ]
    }
   ],
   "source": [
    "WeatherData = AccidentData3['WEATHER'].value_counts()"
   ]
  },
  {
   "cell_type": "code",
   "execution_count": 38,
   "metadata": {},
   "outputs": [
    {
     "output_type": "execute_result",
     "data": {
      "text/plain": "3     111002\n2      33110\n1      27675\n11     15037\n10       901\n6        824\n5        569\n9        113\n4         55\n8         25\n7          5\nName: WEATHER, dtype: int64"
     },
     "metadata": {},
     "execution_count": 38
    }
   ],
   "source": [
    "WeatherData.head(11)"
   ]
  },
  {
   "cell_type": "code",
   "execution_count": 2,
   "metadata": {},
   "outputs": [
    {
     "output_type": "error",
     "ename": "NameError",
     "evalue": "name 'WeatherData' is not defined",
     "traceback": [
      "\u001b[1;31m---------------------------------------------------------------------------\u001b[0m",
      "\u001b[1;31mNameError\u001b[0m                                 Traceback (most recent call last)",
      "\u001b[1;32m<ipython-input-2-e54501f7e0c5>\u001b[0m in \u001b[0;36m<module>\u001b[1;34m\u001b[0m\n\u001b[1;32m----> 1\u001b[1;33m \u001b[0mWeatherData\u001b[0m\u001b[1;33m.\u001b[0m\u001b[0mhist\u001b[0m\u001b[1;33m(\u001b[0m\u001b[0mcolumn\u001b[0m\u001b[1;33m=\u001b[0m\u001b[1;34m'WEATHER'\u001b[0m\u001b[1;33m,\u001b[0m \u001b[0mbins\u001b[0m\u001b[1;33m=\u001b[0m\u001b[1;36m22\u001b[0m\u001b[1;33m)\u001b[0m\u001b[1;33m\u001b[0m\u001b[1;33m\u001b[0m\u001b[0m\n\u001b[0m",
      "\u001b[1;31mNameError\u001b[0m: name 'WeatherData' is not defined"
     ]
    }
   ],
   "source": [
    "WeatherData.hist(column='WEATHER', bins=22)"
   ]
  },
  {
   "cell_type": "code",
   "execution_count": 39,
   "metadata": {},
   "outputs": [],
   "source": [
    "AccidentData3.ROADCOND.replace(to_replace=['Dry'],value='1', inplace = True)\n",
    "AccidentData3.ROADCOND.replace(to_replace=['Ice'],value='2', inplace = True)\n",
    "AccidentData3.ROADCOND.replace(to_replace=['Oil'],value='3', inplace = True)\n",
    "AccidentData3.ROADCOND.replace(to_replace=['Other'],value='4', inplace = True)\n",
    "AccidentData3.ROADCOND.replace(to_replace=['Sand/Mud/Dirt'],value='5', inplace = True)\n",
    "AccidentData3.ROADCOND.replace(to_replace=['Snow/Slush'],value='6', inplace = True)\n",
    "AccidentData3.ROADCOND.replace(to_replace=['Standing Water'],value='7', inplace = True)\n",
    "AccidentData3.ROADCOND.replace(to_replace=['Unknown'],value='8', inplace = True)\n",
    "AccidentData3.ROADCOND.replace(to_replace=['Wet'],value='9', inplace = True)"
   ]
  },
  {
   "cell_type": "code",
   "execution_count": 40,
   "metadata": {},
   "outputs": [
    {
     "output_type": "execute_result",
     "data": {
      "text/plain": "   OBJECTID  INCKEY  SEVERITYCODE                    SEVERITYDESC  \\\n0         1    1307             2                Injury Collision   \n1         2   52200             1  Property Damage Only Collision   \n2         3   26700             1  Property Damage Only Collision   \n3         4    1144             1  Property Damage Only Collision   \n4         5   17700             2                Injury Collision   \n\n  COLLISIONTYPE  PERSONCOUNT  PEDCOUNT  PEDCYLCOUNT  VEHCOUNT  \\\n0        Angles            2         0            0         2   \n1     Sideswipe            2         0            0         2   \n2    Parked Car            4         0            0         3   \n3         Other            3         0            0         3   \n4        Angles            2         0            0         2   \n\n                              JUNCTIONTYPE WEATHER ROADCOND  \\\n0   At Intersection (intersection related)       1        9   \n1  Mid-Block (not related to intersection)       2        9   \n2  Mid-Block (not related to intersection)       1        1   \n3  Mid-Block (not related to intersection)       3        1   \n4   At Intersection (intersection related)       2        9   \n\n                 LIGHTCOND             Dates              Time  Day of week  \\\n0                 Daylight  2013/03/27 00:00  1900/01/01 14:54            2   \n1  Dark - Street Lights On  2006/12/20 00:00  1900/01/01 18:55            2   \n2                 Daylight  2004/11/18 00:00  1900/01/01 10:20            3   \n3                 Daylight  2013/03/29 00:00  1900/01/01 09:26            4   \n4                 Daylight  2004/01/28 00:00  1900/01/01 08:04            2   \n\n   Month of Year  \n0              3  \n1             12  \n2             11  \n3              3  \n4              1  ",
      "text/html": "<div>\n<style scoped>\n    .dataframe tbody tr th:only-of-type {\n        vertical-align: middle;\n    }\n\n    .dataframe tbody tr th {\n        vertical-align: top;\n    }\n\n    .dataframe thead th {\n        text-align: right;\n    }\n</style>\n<table border=\"1\" class=\"dataframe\">\n  <thead>\n    <tr style=\"text-align: right;\">\n      <th></th>\n      <th>OBJECTID</th>\n      <th>INCKEY</th>\n      <th>SEVERITYCODE</th>\n      <th>SEVERITYDESC</th>\n      <th>COLLISIONTYPE</th>\n      <th>PERSONCOUNT</th>\n      <th>PEDCOUNT</th>\n      <th>PEDCYLCOUNT</th>\n      <th>VEHCOUNT</th>\n      <th>JUNCTIONTYPE</th>\n      <th>WEATHER</th>\n      <th>ROADCOND</th>\n      <th>LIGHTCOND</th>\n      <th>Dates</th>\n      <th>Time</th>\n      <th>Day of week</th>\n      <th>Month of Year</th>\n    </tr>\n  </thead>\n  <tbody>\n    <tr>\n      <th>0</th>\n      <td>1</td>\n      <td>1307</td>\n      <td>2</td>\n      <td>Injury Collision</td>\n      <td>Angles</td>\n      <td>2</td>\n      <td>0</td>\n      <td>0</td>\n      <td>2</td>\n      <td>At Intersection (intersection related)</td>\n      <td>1</td>\n      <td>9</td>\n      <td>Daylight</td>\n      <td>2013/03/27 00:00</td>\n      <td>1900/01/01 14:54</td>\n      <td>2</td>\n      <td>3</td>\n    </tr>\n    <tr>\n      <th>1</th>\n      <td>2</td>\n      <td>52200</td>\n      <td>1</td>\n      <td>Property Damage Only Collision</td>\n      <td>Sideswipe</td>\n      <td>2</td>\n      <td>0</td>\n      <td>0</td>\n      <td>2</td>\n      <td>Mid-Block (not related to intersection)</td>\n      <td>2</td>\n      <td>9</td>\n      <td>Dark - Street Lights On</td>\n      <td>2006/12/20 00:00</td>\n      <td>1900/01/01 18:55</td>\n      <td>2</td>\n      <td>12</td>\n    </tr>\n    <tr>\n      <th>2</th>\n      <td>3</td>\n      <td>26700</td>\n      <td>1</td>\n      <td>Property Damage Only Collision</td>\n      <td>Parked Car</td>\n      <td>4</td>\n      <td>0</td>\n      <td>0</td>\n      <td>3</td>\n      <td>Mid-Block (not related to intersection)</td>\n      <td>1</td>\n      <td>1</td>\n      <td>Daylight</td>\n      <td>2004/11/18 00:00</td>\n      <td>1900/01/01 10:20</td>\n      <td>3</td>\n      <td>11</td>\n    </tr>\n    <tr>\n      <th>3</th>\n      <td>4</td>\n      <td>1144</td>\n      <td>1</td>\n      <td>Property Damage Only Collision</td>\n      <td>Other</td>\n      <td>3</td>\n      <td>0</td>\n      <td>0</td>\n      <td>3</td>\n      <td>Mid-Block (not related to intersection)</td>\n      <td>3</td>\n      <td>1</td>\n      <td>Daylight</td>\n      <td>2013/03/29 00:00</td>\n      <td>1900/01/01 09:26</td>\n      <td>4</td>\n      <td>3</td>\n    </tr>\n    <tr>\n      <th>4</th>\n      <td>5</td>\n      <td>17700</td>\n      <td>2</td>\n      <td>Injury Collision</td>\n      <td>Angles</td>\n      <td>2</td>\n      <td>0</td>\n      <td>0</td>\n      <td>2</td>\n      <td>At Intersection (intersection related)</td>\n      <td>2</td>\n      <td>9</td>\n      <td>Daylight</td>\n      <td>2004/01/28 00:00</td>\n      <td>1900/01/01 08:04</td>\n      <td>2</td>\n      <td>1</td>\n    </tr>\n  </tbody>\n</table>\n</div>"
     },
     "metadata": {},
     "execution_count": 40
    }
   ],
   "source": [
    "AccidentData3.head()"
   ]
  },
  {
   "cell_type": "code",
   "execution_count": 41,
   "metadata": {},
   "outputs": [],
   "source": [
    "RoadCondData = AccidentData3['ROADCOND'].value_counts()"
   ]
  },
  {
   "cell_type": "code",
   "execution_count": 42,
   "metadata": {},
   "outputs": [
    {
     "output_type": "execute_result",
     "data": {
      "text/plain": "1    124294\n9     47407\n8     15027\n2      1205\n6       999\n4       131\n7       115\n5        74\n3        64\nName: ROADCOND, dtype: int64"
     },
     "metadata": {},
     "execution_count": 42
    }
   ],
   "source": [
    "RoadCondData.head(11)"
   ]
  },
  {
   "cell_type": "code",
   "execution_count": 43,
   "metadata": {},
   "outputs": [],
   "source": [
    "AccidentData3.LIGHTCOND.replace(to_replace=['Dark - Street Lights On'],value='1', inplace = True)\n",
    "AccidentData3.LIGHTCOND.replace(to_replace=['Dusk'],value='2', inplace = True)\n",
    "AccidentData3.LIGHTCOND.replace(to_replace=['Daylight'],value='3', inplace = True)\n",
    "AccidentData3.LIGHTCOND.replace(to_replace=['Unknown'],value='4', inplace = True)\n",
    "AccidentData3.LIGHTCOND.replace(to_replace=['Dark - Street Lights Off'],value='5', inplace = True)\n",
    "AccidentData3.LIGHTCOND.replace(to_replace=['Dawn'],value='6', inplace = True)\n",
    "AccidentData3.LIGHTCOND.replace(to_replace=['Other'],value='7', inplace = True)\n",
    "AccidentData3.LIGHTCOND.replace(to_replace=['Dark - No Street Lights'],value='8', inplace = True)\n",
    "AccidentData3.LIGHTCOND.replace(to_replace=['Dark - Unknown Lighting'],value='9', inplace = True)"
   ]
  },
  {
   "cell_type": "code",
   "execution_count": 44,
   "metadata": {},
   "outputs": [
    {
     "output_type": "execute_result",
     "data": {
      "text/plain": "   OBJECTID  INCKEY  SEVERITYCODE                    SEVERITYDESC  \\\n0         1    1307             2                Injury Collision   \n1         2   52200             1  Property Damage Only Collision   \n2         3   26700             1  Property Damage Only Collision   \n3         4    1144             1  Property Damage Only Collision   \n4         5   17700             2                Injury Collision   \n\n  COLLISIONTYPE  PERSONCOUNT  PEDCOUNT  PEDCYLCOUNT  VEHCOUNT  \\\n0        Angles            2         0            0         2   \n1     Sideswipe            2         0            0         2   \n2    Parked Car            4         0            0         3   \n3         Other            3         0            0         3   \n4        Angles            2         0            0         2   \n\n                              JUNCTIONTYPE WEATHER ROADCOND LIGHTCOND  \\\n0   At Intersection (intersection related)       1        9         3   \n1  Mid-Block (not related to intersection)       2        9         1   \n2  Mid-Block (not related to intersection)       1        1         3   \n3  Mid-Block (not related to intersection)       3        1         3   \n4   At Intersection (intersection related)       2        9         3   \n\n              Dates              Time  Day of week  Month of Year  \n0  2013/03/27 00:00  1900/01/01 14:54            2              3  \n1  2006/12/20 00:00  1900/01/01 18:55            2             12  \n2  2004/11/18 00:00  1900/01/01 10:20            3             11  \n3  2013/03/29 00:00  1900/01/01 09:26            4              3  \n4  2004/01/28 00:00  1900/01/01 08:04            2              1  ",
      "text/html": "<div>\n<style scoped>\n    .dataframe tbody tr th:only-of-type {\n        vertical-align: middle;\n    }\n\n    .dataframe tbody tr th {\n        vertical-align: top;\n    }\n\n    .dataframe thead th {\n        text-align: right;\n    }\n</style>\n<table border=\"1\" class=\"dataframe\">\n  <thead>\n    <tr style=\"text-align: right;\">\n      <th></th>\n      <th>OBJECTID</th>\n      <th>INCKEY</th>\n      <th>SEVERITYCODE</th>\n      <th>SEVERITYDESC</th>\n      <th>COLLISIONTYPE</th>\n      <th>PERSONCOUNT</th>\n      <th>PEDCOUNT</th>\n      <th>PEDCYLCOUNT</th>\n      <th>VEHCOUNT</th>\n      <th>JUNCTIONTYPE</th>\n      <th>WEATHER</th>\n      <th>ROADCOND</th>\n      <th>LIGHTCOND</th>\n      <th>Dates</th>\n      <th>Time</th>\n      <th>Day of week</th>\n      <th>Month of Year</th>\n    </tr>\n  </thead>\n  <tbody>\n    <tr>\n      <th>0</th>\n      <td>1</td>\n      <td>1307</td>\n      <td>2</td>\n      <td>Injury Collision</td>\n      <td>Angles</td>\n      <td>2</td>\n      <td>0</td>\n      <td>0</td>\n      <td>2</td>\n      <td>At Intersection (intersection related)</td>\n      <td>1</td>\n      <td>9</td>\n      <td>3</td>\n      <td>2013/03/27 00:00</td>\n      <td>1900/01/01 14:54</td>\n      <td>2</td>\n      <td>3</td>\n    </tr>\n    <tr>\n      <th>1</th>\n      <td>2</td>\n      <td>52200</td>\n      <td>1</td>\n      <td>Property Damage Only Collision</td>\n      <td>Sideswipe</td>\n      <td>2</td>\n      <td>0</td>\n      <td>0</td>\n      <td>2</td>\n      <td>Mid-Block (not related to intersection)</td>\n      <td>2</td>\n      <td>9</td>\n      <td>1</td>\n      <td>2006/12/20 00:00</td>\n      <td>1900/01/01 18:55</td>\n      <td>2</td>\n      <td>12</td>\n    </tr>\n    <tr>\n      <th>2</th>\n      <td>3</td>\n      <td>26700</td>\n      <td>1</td>\n      <td>Property Damage Only Collision</td>\n      <td>Parked Car</td>\n      <td>4</td>\n      <td>0</td>\n      <td>0</td>\n      <td>3</td>\n      <td>Mid-Block (not related to intersection)</td>\n      <td>1</td>\n      <td>1</td>\n      <td>3</td>\n      <td>2004/11/18 00:00</td>\n      <td>1900/01/01 10:20</td>\n      <td>3</td>\n      <td>11</td>\n    </tr>\n    <tr>\n      <th>3</th>\n      <td>4</td>\n      <td>1144</td>\n      <td>1</td>\n      <td>Property Damage Only Collision</td>\n      <td>Other</td>\n      <td>3</td>\n      <td>0</td>\n      <td>0</td>\n      <td>3</td>\n      <td>Mid-Block (not related to intersection)</td>\n      <td>3</td>\n      <td>1</td>\n      <td>3</td>\n      <td>2013/03/29 00:00</td>\n      <td>1900/01/01 09:26</td>\n      <td>4</td>\n      <td>3</td>\n    </tr>\n    <tr>\n      <th>4</th>\n      <td>5</td>\n      <td>17700</td>\n      <td>2</td>\n      <td>Injury Collision</td>\n      <td>Angles</td>\n      <td>2</td>\n      <td>0</td>\n      <td>0</td>\n      <td>2</td>\n      <td>At Intersection (intersection related)</td>\n      <td>2</td>\n      <td>9</td>\n      <td>3</td>\n      <td>2004/01/28 00:00</td>\n      <td>1900/01/01 08:04</td>\n      <td>2</td>\n      <td>1</td>\n    </tr>\n  </tbody>\n</table>\n</div>"
     },
     "metadata": {},
     "execution_count": 44
    }
   ],
   "source": [
    "AccidentData3.head()"
   ]
  },
  {
   "cell_type": "code",
   "execution_count": 45,
   "metadata": {},
   "outputs": [
    {
     "output_type": "execute_result",
     "data": {
      "text/plain": "3    116064\n1     48437\n4     13454\n2      5888\n6      2501\n8      1534\n5      1192\n7       235\n9        11\nName: LIGHTCOND, dtype: int64"
     },
     "metadata": {},
     "execution_count": 45
    }
   ],
   "source": [
    "LightCondData = AccidentData3['LIGHTCOND'].value_counts()\n",
    "LightCondData.head(11)"
   ]
  },
  {
   "cell_type": "code",
   "execution_count": 46,
   "metadata": {},
   "outputs": [
    {
     "output_type": "execute_result",
     "data": {
      "text/plain": "OBJECTID          int64\nINCKEY            int64\nSEVERITYCODE      int64\nSEVERITYDESC     object\nCOLLISIONTYPE    object\nPERSONCOUNT       int64\nPEDCOUNT          int64\nPEDCYLCOUNT       int64\nVEHCOUNT          int64\nJUNCTIONTYPE     object\nWEATHER          object\nROADCOND         object\nLIGHTCOND        object\nDates            object\nTime             object\nDay of week       int64\nMonth of Year     int64\ndtype: object"
     },
     "metadata": {},
     "execution_count": 46
    }
   ],
   "source": [
    "AccidentData3.dtypes"
   ]
  },
  {
   "cell_type": "code",
   "execution_count": 48,
   "metadata": {},
   "outputs": [
    {
     "output_type": "execute_result",
     "data": {
      "text/plain": "OBJECTID          int64\nINCKEY            int64\nSEVERITYCODE      int64\nSEVERITYDESC     object\nCOLLISIONTYPE    object\nPERSONCOUNT       int64\nPEDCOUNT          int64\nPEDCYLCOUNT       int64\nVEHCOUNT          int64\nJUNCTIONTYPE     object\nWEATHER           int32\nROADCOND          int32\nLIGHTCOND         int32\nDates            object\nTime             object\nDay of week       int64\nMonth of Year     int64\ndtype: object"
     },
     "metadata": {},
     "execution_count": 48
    }
   ],
   "source": [
    "AccidentData3[[\"ROADCOND\"]] = AccidentData3[[\"ROADCOND\"]].astype(\"int\")\n",
    "AccidentData3[[\"WEATHER\"]] = AccidentData3[[\"WEATHER\"]].astype(\"int\")\n",
    "AccidentData3[[\"LIGHTCOND\"]] = AccidentData3[[\"LIGHTCOND\"]].astype(\"int\")\n",
    "AccidentData3.dtypes"
   ]
  },
  {
   "cell_type": "code",
   "execution_count": 20,
   "metadata": {},
   "outputs": [],
   "source": [
    "# Export pandas dataframe to laptop for further use in analysis\n",
    "AccidentData3.to_csv(r'E:\\Training Development\\Coursera\\IBM Data Science\\Course 9 - Capstone Project\\Capstone Project Data\\AccidentData_3.csv', index = None, header = True)"
   ]
  }
 ]
}