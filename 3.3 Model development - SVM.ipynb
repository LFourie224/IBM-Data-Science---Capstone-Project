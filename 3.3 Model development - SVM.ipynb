{
 "metadata": {
  "language_info": {
   "codemirror_mode": {
    "name": "ipython",
    "version": 3
   },
   "file_extension": ".py",
   "mimetype": "text/x-python",
   "name": "python",
   "nbconvert_exporter": "python",
   "pygments_lexer": "ipython3",
   "version": "3.7.7-final"
  },
  "orig_nbformat": 2,
  "kernelspec": {
   "name": "python37732bitmyenvcondacdd7653a66d44e76b9f4e68fbb6ca43c",
   "display_name": "Python 3.7.7 32-bit ('myenv': conda)"
  }
 },
 "nbformat": 4,
 "nbformat_minor": 2,
 "cells": [
  {
   "cell_type": "code",
   "execution_count": 1,
   "metadata": {},
   "outputs": [],
   "source": [
    "import pandas as pd\n",
    "import pylab as pl\n",
    "import numpy as np\n",
    "import scipy.optimize as opt\n",
    "from sklearn import preprocessing\n",
    "from sklearn.model_selection import train_test_split\n",
    "%matplotlib inline \n",
    "import matplotlib.pyplot as plt"
   ]
  },
  {
   "cell_type": "code",
   "execution_count": 2,
   "metadata": {},
   "outputs": [],
   "source": [
    "#Import dataset\n",
    "AccidentData_SVM = pd.read_csv('E:\\Training Development\\Coursera\\IBM Data Science\\Course 9 - Capstone Project\\Capstone Project Data\\AccidentData_4.csv')"
   ]
  },
  {
   "cell_type": "code",
   "execution_count": 3,
   "metadata": {},
   "outputs": [
    {
     "output_type": "execute_result",
     "data": {
      "text/plain": "   OBJECTID  SEVERITYCODE  JUNCTIONTYPE  WEATHER  ROADCOND  LIGHTCOND  \\\n0         1             2             2        1         9          6   \n1         2             1             3        2         9          3   \n2         3             1             3        1         1          6   \n3         4             1             3        3         1          6   \n4         5             2             2        2         9          6   \n\n   Day of week  Month of Year  \n0            2              3  \n1            2             12  \n2            3             11  \n3            4              3  \n4            2              1  ",
      "text/html": "<div>\n<style scoped>\n    .dataframe tbody tr th:only-of-type {\n        vertical-align: middle;\n    }\n\n    .dataframe tbody tr th {\n        vertical-align: top;\n    }\n\n    .dataframe thead th {\n        text-align: right;\n    }\n</style>\n<table border=\"1\" class=\"dataframe\">\n  <thead>\n    <tr style=\"text-align: right;\">\n      <th></th>\n      <th>OBJECTID</th>\n      <th>SEVERITYCODE</th>\n      <th>JUNCTIONTYPE</th>\n      <th>WEATHER</th>\n      <th>ROADCOND</th>\n      <th>LIGHTCOND</th>\n      <th>Day of week</th>\n      <th>Month of Year</th>\n    </tr>\n  </thead>\n  <tbody>\n    <tr>\n      <th>0</th>\n      <td>1</td>\n      <td>2</td>\n      <td>2</td>\n      <td>1</td>\n      <td>9</td>\n      <td>6</td>\n      <td>2</td>\n      <td>3</td>\n    </tr>\n    <tr>\n      <th>1</th>\n      <td>2</td>\n      <td>1</td>\n      <td>3</td>\n      <td>2</td>\n      <td>9</td>\n      <td>3</td>\n      <td>2</td>\n      <td>12</td>\n    </tr>\n    <tr>\n      <th>2</th>\n      <td>3</td>\n      <td>1</td>\n      <td>3</td>\n      <td>1</td>\n      <td>1</td>\n      <td>6</td>\n      <td>3</td>\n      <td>11</td>\n    </tr>\n    <tr>\n      <th>3</th>\n      <td>4</td>\n      <td>1</td>\n      <td>3</td>\n      <td>3</td>\n      <td>1</td>\n      <td>6</td>\n      <td>4</td>\n      <td>3</td>\n    </tr>\n    <tr>\n      <th>4</th>\n      <td>5</td>\n      <td>2</td>\n      <td>2</td>\n      <td>2</td>\n      <td>9</td>\n      <td>6</td>\n      <td>2</td>\n      <td>1</td>\n    </tr>\n  </tbody>\n</table>\n</div>"
     },
     "metadata": {},
     "execution_count": 3
    }
   ],
   "source": [
    "AccidentData_SVM.head()"
   ]
  },
  {
   "cell_type": "code",
   "execution_count": 4,
   "metadata": {},
   "outputs": [
    {
     "output_type": "execute_result",
     "data": {
      "text/plain": "OBJECTID         int64\nSEVERITYCODE     int64\nJUNCTIONTYPE     int64\nWEATHER          int64\nROADCOND         int64\nLIGHTCOND        int64\nDay of week      int64\nMonth of Year    int64\ndtype: object"
     },
     "metadata": {},
     "execution_count": 4
    }
   ],
   "source": [
    "AccidentData_SVM.dtypes"
   ]
  },
  {
   "cell_type": "code",
   "execution_count": 5,
   "metadata": {},
   "outputs": [
    {
     "output_type": "execute_result",
     "data": {
      "text/plain": "189337"
     },
     "metadata": {},
     "execution_count": 5
    }
   ],
   "source": [
    "len(AccidentData_SVM.index)"
   ]
  },
  {
   "cell_type": "code",
   "execution_count": 6,
   "metadata": {},
   "outputs": [
    {
     "output_type": "execute_result",
     "data": {
      "text/plain": "Index(['OBJECTID', 'SEVERITYCODE', 'JUNCTIONTYPE', 'WEATHER', 'ROADCOND',\n       'LIGHTCOND', 'Day of week', 'Month of Year'],\n      dtype='object')"
     },
     "metadata": {},
     "execution_count": 6
    }
   ],
   "source": [
    "# Define feature set, X\n",
    "AccidentData_SVM.columns"
   ]
  },
  {
   "cell_type": "code",
   "execution_count": 7,
   "metadata": {},
   "outputs": [
    {
     "output_type": "execute_result",
     "data": {
      "text/plain": "array([[ 2,  1,  9,  6,  2,  3],\n       [ 3,  2,  9,  3,  2, 12],\n       [ 3,  1,  1,  6,  3, 11],\n       [ 3,  3,  1,  6,  4,  3],\n       [ 2,  2,  9,  6,  2,  1]], dtype=int64)"
     },
     "metadata": {},
     "execution_count": 7
    }
   ],
   "source": [
    "feature_df = AccidentData_SVM[['JUNCTIONTYPE', 'WEATHER', 'ROADCOND', 'LIGHTCOND', 'Day of week', 'Month of Year']]\n",
    "X = np.asarray(feature_df)\n",
    "X[0:5]"
   ]
  },
  {
   "cell_type": "code",
   "execution_count": 8,
   "metadata": {},
   "outputs": [
    {
     "output_type": "execute_result",
     "data": {
      "text/plain": "array([2, 1, 1, 1, 2])"
     },
     "metadata": {},
     "execution_count": 8
    }
   ],
   "source": [
    "# Define the labels\n",
    "AccidentData_SVM['SEVERITYCODE'] = AccidentData_SVM['SEVERITYCODE'].astype('int')\n",
    "y = np.asarray(AccidentData_SVM['SEVERITYCODE'])\n",
    "y [0:5]"
   ]
  },
  {
   "cell_type": "code",
   "execution_count": 9,
   "metadata": {},
   "outputs": [
    {
     "output_type": "execute_result",
     "data": {
      "text/plain": "array([[-0.97301587, -0.90075769,  1.4789272 ,  0.35007251, -0.49066799,\n        -1.04183148],\n       [ 0.31901365, -0.49594889,  1.4789272 , -1.40094051, -0.49066799,\n         1.58661409],\n       [ 0.31901365, -0.90075769, -0.71204349,  0.35007251,  0.02941915,\n         1.29456458],\n       [ 0.31901365, -0.09114008, -0.71204349,  0.35007251,  0.54950629,\n        -1.04183148],\n       [-0.97301587, -0.49594889,  1.4789272 ,  0.35007251, -0.49066799,\n        -1.62593049],\n       [-0.97301587, -0.09114008, -0.71204349,  0.35007251,  1.06959343,\n        -0.74978197],\n       [-0.97301587, -0.49594889,  1.4789272 ,  0.35007251, -1.01075513,\n         1.58661409],\n       [-0.97301587, -0.09114008, -0.71204349,  0.35007251, -0.49066799,\n        -0.74978197],\n       [ 0.31901365, -0.09114008, -0.71204349,  0.35007251,  0.02941915,\n        -0.16568296],\n       [-0.97301587, -0.09114008, -0.71204349,  0.35007251, -1.53084227,\n        -1.04183148]])"
     },
     "metadata": {},
     "execution_count": 9
    }
   ],
   "source": [
    "# Normalise the data\n",
    "X = preprocessing.StandardScaler().fit(X).transform(X.astype(float))\n",
    "X[0:10]"
   ]
  },
  {
   "cell_type": "code",
   "execution_count": 10,
   "metadata": {},
   "outputs": [],
   "source": [
    "# Train / test split\n",
    "from sklearn.model_selection import train_test_split"
   ]
  },
  {
   "cell_type": "code",
   "execution_count": 11,
   "metadata": {
    "tags": []
   },
   "outputs": [
    {
     "output_type": "stream",
     "name": "stdout",
     "text": "Train set: (151469, 6) (151469,)\nTest set: (37868, 6) (37868,)\n"
    }
   ],
   "source": [
    "X_train, X_test, y_train, y_test = train_test_split( X, y, test_size=0.2, random_state=4)\n",
    "print ('Train set:', X_train.shape,  y_train.shape)\n",
    "print ('Test set:', X_test.shape,  y_test.shape)"
   ]
  },
  {
   "cell_type": "code",
   "execution_count": 12,
   "metadata": {},
   "outputs": [
    {
     "output_type": "execute_result",
     "data": {
      "text/plain": "SVC()"
     },
     "metadata": {},
     "execution_count": 12
    }
   ],
   "source": [
    "# Train the model\n",
    "from sklearn import svm\n",
    "clf = svm.SVC(kernel='rbf')\n",
    "clf.fit(X_train, y_train) "
   ]
  },
  {
   "cell_type": "code",
   "execution_count": 13,
   "metadata": {},
   "outputs": [
    {
     "output_type": "execute_result",
     "data": {
      "text/plain": "array([1, 1, 1, 1, 1])"
     },
     "metadata": {},
     "execution_count": 13
    }
   ],
   "source": [
    "# After being fitted, the model can then be used to predict new values\n",
    "yhat = clf.predict(X_test)\n",
    "yhat [0:5]"
   ]
  },
  {
   "cell_type": "code",
   "execution_count": null,
   "metadata": {},
   "outputs": [],
   "source": [
    "# EVALUATION"
   ]
  },
  {
   "cell_type": "code",
   "execution_count": 14,
   "metadata": {},
   "outputs": [],
   "source": [
    "# Measure accuracy\n",
    "from sklearn.metrics import classification_report, confusion_matrix\n",
    "import itertools"
   ]
  },
  {
   "cell_type": "code",
   "execution_count": 15,
   "metadata": {
    "tags": []
   },
   "outputs": [
    {
     "output_type": "stream",
     "name": "stdout",
     "text": "Train set Accuracy:  0.6993048082445913\nTest set Accuracy:  0.6961550649625013\n"
    }
   ],
   "source": [
    "# Measure accuracy\n",
    "from sklearn import metrics\n",
    "print(\"Train set Accuracy: \", metrics.accuracy_score(y_train, clf.predict(X_train)))\n",
    "print(\"Test set Accuracy: \", metrics.accuracy_score(y_test, yhat))"
   ]
  },
  {
   "cell_type": "code",
   "execution_count": null,
   "metadata": {},
   "outputs": [],
   "source": [
    "# But, data is not balanced, therefore use the following:\n",
    "# - F1 score\n",
    "# - Jaccard index\n",
    "# - Precision / Recall score"
   ]
  },
  {
   "cell_type": "code",
   "execution_count": 25,
   "metadata": {},
   "outputs": [
    {
     "output_type": "execute_result",
     "data": {
      "text/plain": "0.5714476046252985"
     },
     "metadata": {},
     "execution_count": 25
    }
   ],
   "source": [
    "from sklearn.metrics import f1_score\n",
    "f1_score(y_test, yhat, average='weighted') "
   ]
  },
  {
   "cell_type": "code",
   "execution_count": 28,
   "metadata": {},
   "outputs": [
    {
     "output_type": "execute_result",
     "data": {
      "text/plain": "0.6961550649625013"
     },
     "metadata": {},
     "execution_count": 28
    }
   ],
   "source": [
    "from sklearn.metrics import jaccard_score\n",
    "jaccard_score(y_test, yhat)"
   ]
  },
  {
   "cell_type": "code",
   "execution_count": 29,
   "metadata": {
    "tags": []
   },
   "outputs": [
    {
     "output_type": "stream",
     "name": "stdout",
     "text": "Average precision-recall score: 0.70\n"
    }
   ],
   "source": [
    "from sklearn.metrics import average_precision_score\n",
    "average_precision = average_precision_score(y_test, yhat)\n",
    "\n",
    "print('Average precision-recall score: {0:0.2f}'.format(\n",
    "      average_precision))"
   ]
  },
  {
   "cell_type": "code",
   "execution_count": null,
   "metadata": {},
   "outputs": [],
   "source": []
  }
 ]
}