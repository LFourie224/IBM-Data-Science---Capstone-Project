{
 "metadata": {
  "language_info": {
   "codemirror_mode": {
    "name": "ipython",
    "version": 3
   },
   "file_extension": ".py",
   "mimetype": "text/x-python",
   "name": "python",
   "nbconvert_exporter": "python",
   "pygments_lexer": "ipython3",
   "version": "3.7.7-final"
  },
  "orig_nbformat": 2,
  "kernelspec": {
   "name": "python37732bitmyenvcondacdd7653a66d44e76b9f4e68fbb6ca43c",
   "display_name": "Python 3.7.7 32-bit ('myenv': conda)"
  }
 },
 "nbformat": 4,
 "nbformat_minor": 2,
 "cells": [
  {
   "cell_type": "markdown",
   "metadata": {},
   "source": [
    "This file include the following Data Wrangling activities:\n",
    "- Data cleaning - date formatting\n",
    "\n",
    "Other Data Wrangling activities covered in other files:\n",
    "- Data cleaning - other\n",
    "- Data normalisation - part of Model Development\n",
    "\n",
    "The following Data Wrangling activities were not performed on the dataset:\n",
    "- Data standardisation - data were already in a similar format\n",
    "- Binning\n",
    "- Indicator (dummy) variable allocation"
   ]
  },
  {
   "cell_type": "code",
   "execution_count": 1,
   "metadata": {},
   "outputs": [],
   "source": [
    "import pandas as pd\n",
    "import numpy as np"
   ]
  },
  {
   "cell_type": "markdown",
   "metadata": {},
   "source": [
    "# Import and analyse data set"
   ]
  },
  {
   "cell_type": "code",
   "execution_count": 2,
   "metadata": {},
   "outputs": [],
   "source": [
    "AccidentData2 = pd.read_csv('E:\\Training Development\\Coursera\\IBM Data Science\\Course 9 - Capstone Project\\Capstone Project Data\\IncidentData_1.csv')"
   ]
  },
  {
   "cell_type": "code",
   "execution_count": 3,
   "metadata": {},
   "outputs": [
    {
     "output_type": "execute_result",
     "data": {
      "text/plain": "   OBJECTID  SEVERITYCODE                    SEVERITYDESC  \\\n0         1             2                Injury Collision   \n1         2             1  Property Damage Only Collision   \n2         3             1  Property Damage Only Collision   \n3         4             1  Property Damage Only Collision   \n4         5             2                Injury Collision   \n\n                  INCDATE                 INCDTTM  \\\n0  2013/03/27 00:00:00+00    3/27/2013 2:54:00 PM   \n1  2006/12/20 00:00:00+00   12/20/2006 6:55:00 PM   \n2  2004/11/18 00:00:00+00  11/18/2004 10:20:00 AM   \n3  2013/03/29 00:00:00+00    3/29/2013 9:26:00 AM   \n4  2004/01/28 00:00:00+00    1/28/2004 8:04:00 AM   \n\n                              JUNCTIONTYPE   WEATHER ROADCOND  \\\n0   At Intersection (intersection related)  Overcast      Wet   \n1  Mid-Block (not related to intersection)   Raining      Wet   \n2  Mid-Block (not related to intersection)  Overcast      Dry   \n3  Mid-Block (not related to intersection)     Clear      Dry   \n4   At Intersection (intersection related)   Raining      Wet   \n\n                 LIGHTCOND  \n0                 Daylight  \n1  Dark - Street Lights On  \n2                 Daylight  \n3                 Daylight  \n4                 Daylight  ",
      "text/html": "<div>\n<style scoped>\n    .dataframe tbody tr th:only-of-type {\n        vertical-align: middle;\n    }\n\n    .dataframe tbody tr th {\n        vertical-align: top;\n    }\n\n    .dataframe thead th {\n        text-align: right;\n    }\n</style>\n<table border=\"1\" class=\"dataframe\">\n  <thead>\n    <tr style=\"text-align: right;\">\n      <th></th>\n      <th>OBJECTID</th>\n      <th>SEVERITYCODE</th>\n      <th>SEVERITYDESC</th>\n      <th>INCDATE</th>\n      <th>INCDTTM</th>\n      <th>JUNCTIONTYPE</th>\n      <th>WEATHER</th>\n      <th>ROADCOND</th>\n      <th>LIGHTCOND</th>\n    </tr>\n  </thead>\n  <tbody>\n    <tr>\n      <th>0</th>\n      <td>1</td>\n      <td>2</td>\n      <td>Injury Collision</td>\n      <td>2013/03/27 00:00:00+00</td>\n      <td>3/27/2013 2:54:00 PM</td>\n      <td>At Intersection (intersection related)</td>\n      <td>Overcast</td>\n      <td>Wet</td>\n      <td>Daylight</td>\n    </tr>\n    <tr>\n      <th>1</th>\n      <td>2</td>\n      <td>1</td>\n      <td>Property Damage Only Collision</td>\n      <td>2006/12/20 00:00:00+00</td>\n      <td>12/20/2006 6:55:00 PM</td>\n      <td>Mid-Block (not related to intersection)</td>\n      <td>Raining</td>\n      <td>Wet</td>\n      <td>Dark - Street Lights On</td>\n    </tr>\n    <tr>\n      <th>2</th>\n      <td>3</td>\n      <td>1</td>\n      <td>Property Damage Only Collision</td>\n      <td>2004/11/18 00:00:00+00</td>\n      <td>11/18/2004 10:20:00 AM</td>\n      <td>Mid-Block (not related to intersection)</td>\n      <td>Overcast</td>\n      <td>Dry</td>\n      <td>Daylight</td>\n    </tr>\n    <tr>\n      <th>3</th>\n      <td>4</td>\n      <td>1</td>\n      <td>Property Damage Only Collision</td>\n      <td>2013/03/29 00:00:00+00</td>\n      <td>3/29/2013 9:26:00 AM</td>\n      <td>Mid-Block (not related to intersection)</td>\n      <td>Clear</td>\n      <td>Dry</td>\n      <td>Daylight</td>\n    </tr>\n    <tr>\n      <th>4</th>\n      <td>5</td>\n      <td>2</td>\n      <td>Injury Collision</td>\n      <td>2004/01/28 00:00:00+00</td>\n      <td>1/28/2004 8:04:00 AM</td>\n      <td>At Intersection (intersection related)</td>\n      <td>Raining</td>\n      <td>Wet</td>\n      <td>Daylight</td>\n    </tr>\n  </tbody>\n</table>\n</div>"
     },
     "metadata": {},
     "execution_count": 3
    }
   ],
   "source": [
    "AccidentData2.head()"
   ]
  },
  {
   "cell_type": "code",
   "execution_count": 4,
   "metadata": {},
   "outputs": [
    {
     "output_type": "execute_result",
     "data": {
      "text/plain": "189337"
     },
     "metadata": {},
     "execution_count": 4
    }
   ],
   "source": [
    "len(AccidentData2.index)"
   ]
  },
  {
   "cell_type": "code",
   "execution_count": 5,
   "metadata": {},
   "outputs": [
    {
     "output_type": "execute_result",
     "data": {
      "text/plain": "9"
     },
     "metadata": {},
     "execution_count": 5
    }
   ],
   "source": [
    "len(AccidentData2.columns)"
   ]
  },
  {
   "cell_type": "markdown",
   "metadata": {},
   "source": [
    "# Derive date and time columns from INCDTTM"
   ]
  },
  {
   "cell_type": "code",
   "execution_count": 6,
   "metadata": {},
   "outputs": [],
   "source": [
    "import datetime"
   ]
  },
  {
   "cell_type": "code",
   "execution_count": 7,
   "metadata": {},
   "outputs": [],
   "source": [
    "AccidentData2['Dates'] = pd.to_datetime(AccidentData2['INCDTTM']).dt.date \n",
    "AccidentData2['Time'] = pd.to_datetime(AccidentData2['INCDTTM']).dt.time"
   ]
  },
  {
   "cell_type": "code",
   "execution_count": 8,
   "metadata": {},
   "outputs": [
    {
     "output_type": "execute_result",
     "data": {
      "text/plain": "   OBJECTID  SEVERITYCODE                    SEVERITYDESC  \\\n0         1             2                Injury Collision   \n1         2             1  Property Damage Only Collision   \n2         3             1  Property Damage Only Collision   \n3         4             1  Property Damage Only Collision   \n4         5             2                Injury Collision   \n\n                  INCDATE                 INCDTTM  \\\n0  2013/03/27 00:00:00+00    3/27/2013 2:54:00 PM   \n1  2006/12/20 00:00:00+00   12/20/2006 6:55:00 PM   \n2  2004/11/18 00:00:00+00  11/18/2004 10:20:00 AM   \n3  2013/03/29 00:00:00+00    3/29/2013 9:26:00 AM   \n4  2004/01/28 00:00:00+00    1/28/2004 8:04:00 AM   \n\n                              JUNCTIONTYPE   WEATHER ROADCOND  \\\n0   At Intersection (intersection related)  Overcast      Wet   \n1  Mid-Block (not related to intersection)   Raining      Wet   \n2  Mid-Block (not related to intersection)  Overcast      Dry   \n3  Mid-Block (not related to intersection)     Clear      Dry   \n4   At Intersection (intersection related)   Raining      Wet   \n\n                 LIGHTCOND       Dates      Time  \n0                 Daylight  2013-03-27  14:54:00  \n1  Dark - Street Lights On  2006-12-20  18:55:00  \n2                 Daylight  2004-11-18  10:20:00  \n3                 Daylight  2013-03-29  09:26:00  \n4                 Daylight  2004-01-28  08:04:00  ",
      "text/html": "<div>\n<style scoped>\n    .dataframe tbody tr th:only-of-type {\n        vertical-align: middle;\n    }\n\n    .dataframe tbody tr th {\n        vertical-align: top;\n    }\n\n    .dataframe thead th {\n        text-align: right;\n    }\n</style>\n<table border=\"1\" class=\"dataframe\">\n  <thead>\n    <tr style=\"text-align: right;\">\n      <th></th>\n      <th>OBJECTID</th>\n      <th>SEVERITYCODE</th>\n      <th>SEVERITYDESC</th>\n      <th>INCDATE</th>\n      <th>INCDTTM</th>\n      <th>JUNCTIONTYPE</th>\n      <th>WEATHER</th>\n      <th>ROADCOND</th>\n      <th>LIGHTCOND</th>\n      <th>Dates</th>\n      <th>Time</th>\n    </tr>\n  </thead>\n  <tbody>\n    <tr>\n      <th>0</th>\n      <td>1</td>\n      <td>2</td>\n      <td>Injury Collision</td>\n      <td>2013/03/27 00:00:00+00</td>\n      <td>3/27/2013 2:54:00 PM</td>\n      <td>At Intersection (intersection related)</td>\n      <td>Overcast</td>\n      <td>Wet</td>\n      <td>Daylight</td>\n      <td>2013-03-27</td>\n      <td>14:54:00</td>\n    </tr>\n    <tr>\n      <th>1</th>\n      <td>2</td>\n      <td>1</td>\n      <td>Property Damage Only Collision</td>\n      <td>2006/12/20 00:00:00+00</td>\n      <td>12/20/2006 6:55:00 PM</td>\n      <td>Mid-Block (not related to intersection)</td>\n      <td>Raining</td>\n      <td>Wet</td>\n      <td>Dark - Street Lights On</td>\n      <td>2006-12-20</td>\n      <td>18:55:00</td>\n    </tr>\n    <tr>\n      <th>2</th>\n      <td>3</td>\n      <td>1</td>\n      <td>Property Damage Only Collision</td>\n      <td>2004/11/18 00:00:00+00</td>\n      <td>11/18/2004 10:20:00 AM</td>\n      <td>Mid-Block (not related to intersection)</td>\n      <td>Overcast</td>\n      <td>Dry</td>\n      <td>Daylight</td>\n      <td>2004-11-18</td>\n      <td>10:20:00</td>\n    </tr>\n    <tr>\n      <th>3</th>\n      <td>4</td>\n      <td>1</td>\n      <td>Property Damage Only Collision</td>\n      <td>2013/03/29 00:00:00+00</td>\n      <td>3/29/2013 9:26:00 AM</td>\n      <td>Mid-Block (not related to intersection)</td>\n      <td>Clear</td>\n      <td>Dry</td>\n      <td>Daylight</td>\n      <td>2013-03-29</td>\n      <td>09:26:00</td>\n    </tr>\n    <tr>\n      <th>4</th>\n      <td>5</td>\n      <td>2</td>\n      <td>Injury Collision</td>\n      <td>2004/01/28 00:00:00+00</td>\n      <td>1/28/2004 8:04:00 AM</td>\n      <td>At Intersection (intersection related)</td>\n      <td>Raining</td>\n      <td>Wet</td>\n      <td>Daylight</td>\n      <td>2004-01-28</td>\n      <td>08:04:00</td>\n    </tr>\n  </tbody>\n</table>\n</div>"
     },
     "metadata": {},
     "execution_count": 8
    }
   ],
   "source": [
    "AccidentData2.head()"
   ]
  },
  {
   "cell_type": "code",
   "execution_count": 9,
   "metadata": {},
   "outputs": [
    {
     "output_type": "execute_result",
     "data": {
      "text/plain": "189337"
     },
     "metadata": {},
     "execution_count": 9
    }
   ],
   "source": [
    "len(AccidentData2.index)"
   ]
  },
  {
   "cell_type": "code",
   "execution_count": 10,
   "metadata": {},
   "outputs": [
    {
     "output_type": "execute_result",
     "data": {
      "text/plain": "11"
     },
     "metadata": {},
     "execution_count": 10
    }
   ],
   "source": [
    "len(AccidentData2.columns)"
   ]
  },
  {
   "cell_type": "markdown",
   "metadata": {},
   "source": [
    "# Convert Dates and Time to datetime format"
   ]
  },
  {
   "cell_type": "code",
   "execution_count": 11,
   "metadata": {},
   "outputs": [],
   "source": [
    "AccidentData2['Dates'] = pd.to_datetime(AccidentData2['Dates'], format='%Y-%m-%d')\n",
    "AccidentData2['Time'] = pd.to_datetime(AccidentData2['Time'], format='%H:%M:%S')"
   ]
  },
  {
   "cell_type": "markdown",
   "metadata": {},
   "source": [
    "Derive 'Day of Week' with Monday = 0 and Sunday = 6"
   ]
  },
  {
   "cell_type": "code",
   "execution_count": 12,
   "metadata": {},
   "outputs": [],
   "source": [
    "AccidentData2['Day of week'] = AccidentData2['Dates'].dt.dayofweek"
   ]
  },
  {
   "cell_type": "code",
   "execution_count": 13,
   "metadata": {},
   "outputs": [
    {
     "output_type": "execute_result",
     "data": {
      "text/plain": "   OBJECTID  SEVERITYCODE                    SEVERITYDESC  \\\n0         1             2                Injury Collision   \n1         2             1  Property Damage Only Collision   \n2         3             1  Property Damage Only Collision   \n3         4             1  Property Damage Only Collision   \n4         5             2                Injury Collision   \n\n                  INCDATE                 INCDTTM  \\\n0  2013/03/27 00:00:00+00    3/27/2013 2:54:00 PM   \n1  2006/12/20 00:00:00+00   12/20/2006 6:55:00 PM   \n2  2004/11/18 00:00:00+00  11/18/2004 10:20:00 AM   \n3  2013/03/29 00:00:00+00    3/29/2013 9:26:00 AM   \n4  2004/01/28 00:00:00+00    1/28/2004 8:04:00 AM   \n\n                              JUNCTIONTYPE   WEATHER ROADCOND  \\\n0   At Intersection (intersection related)  Overcast      Wet   \n1  Mid-Block (not related to intersection)   Raining      Wet   \n2  Mid-Block (not related to intersection)  Overcast      Dry   \n3  Mid-Block (not related to intersection)     Clear      Dry   \n4   At Intersection (intersection related)   Raining      Wet   \n\n                 LIGHTCOND      Dates                Time  Day of week  \n0                 Daylight 2013-03-27 1900-01-01 14:54:00            2  \n1  Dark - Street Lights On 2006-12-20 1900-01-01 18:55:00            2  \n2                 Daylight 2004-11-18 1900-01-01 10:20:00            3  \n3                 Daylight 2013-03-29 1900-01-01 09:26:00            4  \n4                 Daylight 2004-01-28 1900-01-01 08:04:00            2  ",
      "text/html": "<div>\n<style scoped>\n    .dataframe tbody tr th:only-of-type {\n        vertical-align: middle;\n    }\n\n    .dataframe tbody tr th {\n        vertical-align: top;\n    }\n\n    .dataframe thead th {\n        text-align: right;\n    }\n</style>\n<table border=\"1\" class=\"dataframe\">\n  <thead>\n    <tr style=\"text-align: right;\">\n      <th></th>\n      <th>OBJECTID</th>\n      <th>SEVERITYCODE</th>\n      <th>SEVERITYDESC</th>\n      <th>INCDATE</th>\n      <th>INCDTTM</th>\n      <th>JUNCTIONTYPE</th>\n      <th>WEATHER</th>\n      <th>ROADCOND</th>\n      <th>LIGHTCOND</th>\n      <th>Dates</th>\n      <th>Time</th>\n      <th>Day of week</th>\n    </tr>\n  </thead>\n  <tbody>\n    <tr>\n      <th>0</th>\n      <td>1</td>\n      <td>2</td>\n      <td>Injury Collision</td>\n      <td>2013/03/27 00:00:00+00</td>\n      <td>3/27/2013 2:54:00 PM</td>\n      <td>At Intersection (intersection related)</td>\n      <td>Overcast</td>\n      <td>Wet</td>\n      <td>Daylight</td>\n      <td>2013-03-27</td>\n      <td>1900-01-01 14:54:00</td>\n      <td>2</td>\n    </tr>\n    <tr>\n      <th>1</th>\n      <td>2</td>\n      <td>1</td>\n      <td>Property Damage Only Collision</td>\n      <td>2006/12/20 00:00:00+00</td>\n      <td>12/20/2006 6:55:00 PM</td>\n      <td>Mid-Block (not related to intersection)</td>\n      <td>Raining</td>\n      <td>Wet</td>\n      <td>Dark - Street Lights On</td>\n      <td>2006-12-20</td>\n      <td>1900-01-01 18:55:00</td>\n      <td>2</td>\n    </tr>\n    <tr>\n      <th>2</th>\n      <td>3</td>\n      <td>1</td>\n      <td>Property Damage Only Collision</td>\n      <td>2004/11/18 00:00:00+00</td>\n      <td>11/18/2004 10:20:00 AM</td>\n      <td>Mid-Block (not related to intersection)</td>\n      <td>Overcast</td>\n      <td>Dry</td>\n      <td>Daylight</td>\n      <td>2004-11-18</td>\n      <td>1900-01-01 10:20:00</td>\n      <td>3</td>\n    </tr>\n    <tr>\n      <th>3</th>\n      <td>4</td>\n      <td>1</td>\n      <td>Property Damage Only Collision</td>\n      <td>2013/03/29 00:00:00+00</td>\n      <td>3/29/2013 9:26:00 AM</td>\n      <td>Mid-Block (not related to intersection)</td>\n      <td>Clear</td>\n      <td>Dry</td>\n      <td>Daylight</td>\n      <td>2013-03-29</td>\n      <td>1900-01-01 09:26:00</td>\n      <td>4</td>\n    </tr>\n    <tr>\n      <th>4</th>\n      <td>5</td>\n      <td>2</td>\n      <td>Injury Collision</td>\n      <td>2004/01/28 00:00:00+00</td>\n      <td>1/28/2004 8:04:00 AM</td>\n      <td>At Intersection (intersection related)</td>\n      <td>Raining</td>\n      <td>Wet</td>\n      <td>Daylight</td>\n      <td>2004-01-28</td>\n      <td>1900-01-01 08:04:00</td>\n      <td>2</td>\n    </tr>\n  </tbody>\n</table>\n</div>"
     },
     "metadata": {},
     "execution_count": 13
    }
   ],
   "source": [
    "AccidentData2.head()"
   ]
  },
  {
   "cell_type": "code",
   "execution_count": 14,
   "metadata": {},
   "outputs": [
    {
     "output_type": "execute_result",
     "data": {
      "text/plain": "            OBJECTID   SEVERITYCODE    Day of week\ncount  189337.000000  189337.000000  189337.000000\nmean   106689.517073       1.301325       2.943434\nstd     62195.547505       0.458835       1.922760\nmin         1.000000       1.000000       0.000000\n25%     53039.000000       1.000000       1.000000\n50%    104055.000000       1.000000       3.000000\n75%    159857.000000       2.000000       5.000000\nmax    219547.000000       2.000000       6.000000",
      "text/html": "<div>\n<style scoped>\n    .dataframe tbody tr th:only-of-type {\n        vertical-align: middle;\n    }\n\n    .dataframe tbody tr th {\n        vertical-align: top;\n    }\n\n    .dataframe thead th {\n        text-align: right;\n    }\n</style>\n<table border=\"1\" class=\"dataframe\">\n  <thead>\n    <tr style=\"text-align: right;\">\n      <th></th>\n      <th>OBJECTID</th>\n      <th>SEVERITYCODE</th>\n      <th>Day of week</th>\n    </tr>\n  </thead>\n  <tbody>\n    <tr>\n      <th>count</th>\n      <td>189337.000000</td>\n      <td>189337.000000</td>\n      <td>189337.000000</td>\n    </tr>\n    <tr>\n      <th>mean</th>\n      <td>106689.517073</td>\n      <td>1.301325</td>\n      <td>2.943434</td>\n    </tr>\n    <tr>\n      <th>std</th>\n      <td>62195.547505</td>\n      <td>0.458835</td>\n      <td>1.922760</td>\n    </tr>\n    <tr>\n      <th>min</th>\n      <td>1.000000</td>\n      <td>1.000000</td>\n      <td>0.000000</td>\n    </tr>\n    <tr>\n      <th>25%</th>\n      <td>53039.000000</td>\n      <td>1.000000</td>\n      <td>1.000000</td>\n    </tr>\n    <tr>\n      <th>50%</th>\n      <td>104055.000000</td>\n      <td>1.000000</td>\n      <td>3.000000</td>\n    </tr>\n    <tr>\n      <th>75%</th>\n      <td>159857.000000</td>\n      <td>2.000000</td>\n      <td>5.000000</td>\n    </tr>\n    <tr>\n      <th>max</th>\n      <td>219547.000000</td>\n      <td>2.000000</td>\n      <td>6.000000</td>\n    </tr>\n  </tbody>\n</table>\n</div>"
     },
     "metadata": {},
     "execution_count": 14
    }
   ],
   "source": [
    "AccidentData2.describe()"
   ]
  },
  {
   "cell_type": "markdown",
   "metadata": {},
   "source": [
    "# Delete original INCDTTM and INCDATE columns"
   ]
  },
  {
   "cell_type": "code",
   "execution_count": 15,
   "metadata": {},
   "outputs": [],
   "source": [
    "AccidentData2.drop(['INCDATE', 'INCDTTM'], axis = 1, inplace = True)"
   ]
  },
  {
   "cell_type": "code",
   "execution_count": 16,
   "metadata": {},
   "outputs": [
    {
     "output_type": "execute_result",
     "data": {
      "text/plain": "   OBJECTID  SEVERITYCODE                    SEVERITYDESC  \\\n0         1             2                Injury Collision   \n1         2             1  Property Damage Only Collision   \n2         3             1  Property Damage Only Collision   \n3         4             1  Property Damage Only Collision   \n4         5             2                Injury Collision   \n\n                              JUNCTIONTYPE   WEATHER ROADCOND  \\\n0   At Intersection (intersection related)  Overcast      Wet   \n1  Mid-Block (not related to intersection)   Raining      Wet   \n2  Mid-Block (not related to intersection)  Overcast      Dry   \n3  Mid-Block (not related to intersection)     Clear      Dry   \n4   At Intersection (intersection related)   Raining      Wet   \n\n                 LIGHTCOND      Dates                Time  Day of week  \n0                 Daylight 2013-03-27 1900-01-01 14:54:00            2  \n1  Dark - Street Lights On 2006-12-20 1900-01-01 18:55:00            2  \n2                 Daylight 2004-11-18 1900-01-01 10:20:00            3  \n3                 Daylight 2013-03-29 1900-01-01 09:26:00            4  \n4                 Daylight 2004-01-28 1900-01-01 08:04:00            2  ",
      "text/html": "<div>\n<style scoped>\n    .dataframe tbody tr th:only-of-type {\n        vertical-align: middle;\n    }\n\n    .dataframe tbody tr th {\n        vertical-align: top;\n    }\n\n    .dataframe thead th {\n        text-align: right;\n    }\n</style>\n<table border=\"1\" class=\"dataframe\">\n  <thead>\n    <tr style=\"text-align: right;\">\n      <th></th>\n      <th>OBJECTID</th>\n      <th>SEVERITYCODE</th>\n      <th>SEVERITYDESC</th>\n      <th>JUNCTIONTYPE</th>\n      <th>WEATHER</th>\n      <th>ROADCOND</th>\n      <th>LIGHTCOND</th>\n      <th>Dates</th>\n      <th>Time</th>\n      <th>Day of week</th>\n    </tr>\n  </thead>\n  <tbody>\n    <tr>\n      <th>0</th>\n      <td>1</td>\n      <td>2</td>\n      <td>Injury Collision</td>\n      <td>At Intersection (intersection related)</td>\n      <td>Overcast</td>\n      <td>Wet</td>\n      <td>Daylight</td>\n      <td>2013-03-27</td>\n      <td>1900-01-01 14:54:00</td>\n      <td>2</td>\n    </tr>\n    <tr>\n      <th>1</th>\n      <td>2</td>\n      <td>1</td>\n      <td>Property Damage Only Collision</td>\n      <td>Mid-Block (not related to intersection)</td>\n      <td>Raining</td>\n      <td>Wet</td>\n      <td>Dark - Street Lights On</td>\n      <td>2006-12-20</td>\n      <td>1900-01-01 18:55:00</td>\n      <td>2</td>\n    </tr>\n    <tr>\n      <th>2</th>\n      <td>3</td>\n      <td>1</td>\n      <td>Property Damage Only Collision</td>\n      <td>Mid-Block (not related to intersection)</td>\n      <td>Overcast</td>\n      <td>Dry</td>\n      <td>Daylight</td>\n      <td>2004-11-18</td>\n      <td>1900-01-01 10:20:00</td>\n      <td>3</td>\n    </tr>\n    <tr>\n      <th>3</th>\n      <td>4</td>\n      <td>1</td>\n      <td>Property Damage Only Collision</td>\n      <td>Mid-Block (not related to intersection)</td>\n      <td>Clear</td>\n      <td>Dry</td>\n      <td>Daylight</td>\n      <td>2013-03-29</td>\n      <td>1900-01-01 09:26:00</td>\n      <td>4</td>\n    </tr>\n    <tr>\n      <th>4</th>\n      <td>5</td>\n      <td>2</td>\n      <td>Injury Collision</td>\n      <td>At Intersection (intersection related)</td>\n      <td>Raining</td>\n      <td>Wet</td>\n      <td>Daylight</td>\n      <td>2004-01-28</td>\n      <td>1900-01-01 08:04:00</td>\n      <td>2</td>\n    </tr>\n  </tbody>\n</table>\n</div>"
     },
     "metadata": {},
     "execution_count": 16
    }
   ],
   "source": [
    "AccidentData2.head()"
   ]
  },
  {
   "cell_type": "markdown",
   "metadata": {},
   "source": [
    "Derive the month of the year with January = 1 and December = 12"
   ]
  },
  {
   "cell_type": "code",
   "execution_count": 17,
   "metadata": {},
   "outputs": [],
   "source": [
    "AccidentData2['Month of Year'] = AccidentData2['Dates'].dt.month"
   ]
  },
  {
   "cell_type": "code",
   "execution_count": 18,
   "metadata": {},
   "outputs": [
    {
     "output_type": "execute_result",
     "data": {
      "text/plain": "   OBJECTID  SEVERITYCODE                    SEVERITYDESC  \\\n0         1             2                Injury Collision   \n1         2             1  Property Damage Only Collision   \n2         3             1  Property Damage Only Collision   \n3         4             1  Property Damage Only Collision   \n4         5             2                Injury Collision   \n\n                              JUNCTIONTYPE   WEATHER ROADCOND  \\\n0   At Intersection (intersection related)  Overcast      Wet   \n1  Mid-Block (not related to intersection)   Raining      Wet   \n2  Mid-Block (not related to intersection)  Overcast      Dry   \n3  Mid-Block (not related to intersection)     Clear      Dry   \n4   At Intersection (intersection related)   Raining      Wet   \n\n                 LIGHTCOND      Dates                Time  Day of week  \\\n0                 Daylight 2013-03-27 1900-01-01 14:54:00            2   \n1  Dark - Street Lights On 2006-12-20 1900-01-01 18:55:00            2   \n2                 Daylight 2004-11-18 1900-01-01 10:20:00            3   \n3                 Daylight 2013-03-29 1900-01-01 09:26:00            4   \n4                 Daylight 2004-01-28 1900-01-01 08:04:00            2   \n\n   Month of Year  \n0              3  \n1             12  \n2             11  \n3              3  \n4              1  ",
      "text/html": "<div>\n<style scoped>\n    .dataframe tbody tr th:only-of-type {\n        vertical-align: middle;\n    }\n\n    .dataframe tbody tr th {\n        vertical-align: top;\n    }\n\n    .dataframe thead th {\n        text-align: right;\n    }\n</style>\n<table border=\"1\" class=\"dataframe\">\n  <thead>\n    <tr style=\"text-align: right;\">\n      <th></th>\n      <th>OBJECTID</th>\n      <th>SEVERITYCODE</th>\n      <th>SEVERITYDESC</th>\n      <th>JUNCTIONTYPE</th>\n      <th>WEATHER</th>\n      <th>ROADCOND</th>\n      <th>LIGHTCOND</th>\n      <th>Dates</th>\n      <th>Time</th>\n      <th>Day of week</th>\n      <th>Month of Year</th>\n    </tr>\n  </thead>\n  <tbody>\n    <tr>\n      <th>0</th>\n      <td>1</td>\n      <td>2</td>\n      <td>Injury Collision</td>\n      <td>At Intersection (intersection related)</td>\n      <td>Overcast</td>\n      <td>Wet</td>\n      <td>Daylight</td>\n      <td>2013-03-27</td>\n      <td>1900-01-01 14:54:00</td>\n      <td>2</td>\n      <td>3</td>\n    </tr>\n    <tr>\n      <th>1</th>\n      <td>2</td>\n      <td>1</td>\n      <td>Property Damage Only Collision</td>\n      <td>Mid-Block (not related to intersection)</td>\n      <td>Raining</td>\n      <td>Wet</td>\n      <td>Dark - Street Lights On</td>\n      <td>2006-12-20</td>\n      <td>1900-01-01 18:55:00</td>\n      <td>2</td>\n      <td>12</td>\n    </tr>\n    <tr>\n      <th>2</th>\n      <td>3</td>\n      <td>1</td>\n      <td>Property Damage Only Collision</td>\n      <td>Mid-Block (not related to intersection)</td>\n      <td>Overcast</td>\n      <td>Dry</td>\n      <td>Daylight</td>\n      <td>2004-11-18</td>\n      <td>1900-01-01 10:20:00</td>\n      <td>3</td>\n      <td>11</td>\n    </tr>\n    <tr>\n      <th>3</th>\n      <td>4</td>\n      <td>1</td>\n      <td>Property Damage Only Collision</td>\n      <td>Mid-Block (not related to intersection)</td>\n      <td>Clear</td>\n      <td>Dry</td>\n      <td>Daylight</td>\n      <td>2013-03-29</td>\n      <td>1900-01-01 09:26:00</td>\n      <td>4</td>\n      <td>3</td>\n    </tr>\n    <tr>\n      <th>4</th>\n      <td>5</td>\n      <td>2</td>\n      <td>Injury Collision</td>\n      <td>At Intersection (intersection related)</td>\n      <td>Raining</td>\n      <td>Wet</td>\n      <td>Daylight</td>\n      <td>2004-01-28</td>\n      <td>1900-01-01 08:04:00</td>\n      <td>2</td>\n      <td>1</td>\n    </tr>\n  </tbody>\n</table>\n</div>"
     },
     "metadata": {},
     "execution_count": 18
    }
   ],
   "source": [
    "AccidentData2.head()"
   ]
  },
  {
   "cell_type": "code",
   "execution_count": 19,
   "metadata": {},
   "outputs": [
    {
     "output_type": "execute_result",
     "data": {
      "text/plain": "            OBJECTID   SEVERITYCODE    Day of week  Month of Year\ncount  189337.000000  189337.000000  189337.000000  189337.000000\nmean   106689.517073       1.301325       2.943434       6.567311\nstd     62195.547505       0.458835       1.922760       3.424086\nmin         1.000000       1.000000       0.000000       1.000000\n25%     53039.000000       1.000000       1.000000       4.000000\n50%    104055.000000       1.000000       3.000000       7.000000\n75%    159857.000000       2.000000       5.000000      10.000000\nmax    219547.000000       2.000000       6.000000      12.000000",
      "text/html": "<div>\n<style scoped>\n    .dataframe tbody tr th:only-of-type {\n        vertical-align: middle;\n    }\n\n    .dataframe tbody tr th {\n        vertical-align: top;\n    }\n\n    .dataframe thead th {\n        text-align: right;\n    }\n</style>\n<table border=\"1\" class=\"dataframe\">\n  <thead>\n    <tr style=\"text-align: right;\">\n      <th></th>\n      <th>OBJECTID</th>\n      <th>SEVERITYCODE</th>\n      <th>Day of week</th>\n      <th>Month of Year</th>\n    </tr>\n  </thead>\n  <tbody>\n    <tr>\n      <th>count</th>\n      <td>189337.000000</td>\n      <td>189337.000000</td>\n      <td>189337.000000</td>\n      <td>189337.000000</td>\n    </tr>\n    <tr>\n      <th>mean</th>\n      <td>106689.517073</td>\n      <td>1.301325</td>\n      <td>2.943434</td>\n      <td>6.567311</td>\n    </tr>\n    <tr>\n      <th>std</th>\n      <td>62195.547505</td>\n      <td>0.458835</td>\n      <td>1.922760</td>\n      <td>3.424086</td>\n    </tr>\n    <tr>\n      <th>min</th>\n      <td>1.000000</td>\n      <td>1.000000</td>\n      <td>0.000000</td>\n      <td>1.000000</td>\n    </tr>\n    <tr>\n      <th>25%</th>\n      <td>53039.000000</td>\n      <td>1.000000</td>\n      <td>1.000000</td>\n      <td>4.000000</td>\n    </tr>\n    <tr>\n      <th>50%</th>\n      <td>104055.000000</td>\n      <td>1.000000</td>\n      <td>3.000000</td>\n      <td>7.000000</td>\n    </tr>\n    <tr>\n      <th>75%</th>\n      <td>159857.000000</td>\n      <td>2.000000</td>\n      <td>5.000000</td>\n      <td>10.000000</td>\n    </tr>\n    <tr>\n      <th>max</th>\n      <td>219547.000000</td>\n      <td>2.000000</td>\n      <td>6.000000</td>\n      <td>12.000000</td>\n    </tr>\n  </tbody>\n</table>\n</div>"
     },
     "metadata": {},
     "execution_count": 19
    }
   ],
   "source": [
    "AccidentData2.describe()"
   ]
  },
  {
   "cell_type": "markdown",
   "metadata": {},
   "source": [
    "# Delete non-relevant columns"
   ]
  },
  {
   "cell_type": "code",
   "execution_count": 20,
   "metadata": {},
   "outputs": [],
   "source": [
    "AccidentData2.drop(['Dates', 'Time'], axis = 1, inplace = True)"
   ]
  },
  {
   "cell_type": "code",
   "execution_count": 21,
   "metadata": {},
   "outputs": [
    {
     "output_type": "execute_result",
     "data": {
      "text/plain": "OBJECTID          int64\nSEVERITYCODE      int64\nSEVERITYDESC     object\nJUNCTIONTYPE     object\nWEATHER          object\nROADCOND         object\nLIGHTCOND        object\nDay of week       int64\nMonth of Year     int64\ndtype: object"
     },
     "metadata": {},
     "execution_count": 21
    }
   ],
   "source": [
    "AccidentData2.dtypes"
   ]
  },
  {
   "cell_type": "code",
   "execution_count": 22,
   "metadata": {},
   "outputs": [],
   "source": [
    "AccidentData2.to_csv(r'E:\\Training Development\\Coursera\\IBM Data Science\\Course 9 - Capstone Project\\Capstone Project Data\\AccidentData_2.csv', index = None, header = True)"
   ]
  },
  {
   "cell_type": "code",
   "execution_count": null,
   "metadata": {},
   "outputs": [],
   "source": []
  }
 ]
}