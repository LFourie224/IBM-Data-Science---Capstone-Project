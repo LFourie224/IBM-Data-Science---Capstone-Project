{
 "metadata": {
  "language_info": {
   "codemirror_mode": {
    "name": "ipython",
    "version": 3
   },
   "file_extension": ".py",
   "mimetype": "text/x-python",
   "name": "python",
   "nbconvert_exporter": "python",
   "pygments_lexer": "ipython3",
   "version": "3.7.7-final"
  },
  "orig_nbformat": 2,
  "kernelspec": {
   "name": "python37732bitmyenvcondacdd7653a66d44e76b9f4e68fbb6ca43c",
   "display_name": "Python 3.7.7 32-bit ('myenv': conda)"
  }
 },
 "nbformat": 4,
 "nbformat_minor": 2,
 "cells": [
  {
   "cell_type": "code",
   "execution_count": null,
   "metadata": {},
   "outputs": [],
   "source": [
    "# This file include the following Data Wrangling activities:\n",
    "# - Data cleaning - excluding date formatting\n",
    "\n",
    "# Other Data Wrangling activities covered in other files:\n",
    "# - Data cleaning - date formatting\n",
    "# - Data normalisation - part of Model Development\n",
    "\n",
    "# The following Data Wrangling activities were not performed:\n",
    "# - Data standardisation - data were already in a similar range\n",
    "# - Binning\n",
    "# - Indicator (dummy) variable allocation"
   ]
  },
  {
   "cell_type": "code",
   "execution_count": 1,
   "metadata": {},
   "outputs": [],
   "source": [
    "import pandas as pd\n",
    "import numpy as np\n"
   ]
  },
  {
   "cell_type": "code",
   "execution_count": 2,
   "metadata": {},
   "outputs": [],
   "source": [
    "#Import dataset\n",
    "AccidentData = pd.read_csv('E:/Training Development/Coursera/IBM Data Science/Course 9 - Capstone Project/Capstone Project Data/Capstone Data.csv')"
   ]
  },
  {
   "cell_type": "code",
   "execution_count": 3,
   "metadata": {},
   "outputs": [
    {
     "output_type": "execute_result",
     "data": {
      "text/plain": "194673"
     },
     "metadata": {},
     "execution_count": 3
    }
   ],
   "source": [
    "len(AccidentData.index)"
   ]
  },
  {
   "cell_type": "code",
   "execution_count": 4,
   "metadata": {},
   "outputs": [
    {
     "output_type": "execute_result",
     "data": {
      "text/plain": "38"
     },
     "metadata": {},
     "execution_count": 4
    }
   ],
   "source": [
    "len(AccidentData.columns)"
   ]
  },
  {
   "cell_type": "code",
   "execution_count": 5,
   "metadata": {},
   "outputs": [
    {
     "output_type": "execute_result",
     "data": {
      "text/plain": "   SEVERITYCODE           X          Y  OBJECTID  INCKEY  COLDETKEY REPORTNO  \\\n0             2 -122.323148  47.703140         1    1307       1307  3502005   \n1             1 -122.347294  47.647172         2   52200      52200  2607959   \n2             1 -122.334540  47.607871         3   26700      26700  1482393   \n3             1 -122.334803  47.604803         4    1144       1144  3503937   \n4             2 -122.306426  47.545739         5   17700      17700  1807429   \n\n    STATUS      ADDRTYPE   INTKEY  ... ROADCOND                LIGHTCOND  \\\n0  Matched  Intersection  37475.0  ...      Wet                 Daylight   \n1  Matched         Block      NaN  ...      Wet  Dark - Street Lights On   \n2  Matched         Block      NaN  ...      Dry                 Daylight   \n3  Matched         Block      NaN  ...      Dry                 Daylight   \n4  Matched  Intersection  34387.0  ...      Wet                 Daylight   \n\n  PEDROWNOTGRNT  SDOTCOLNUM SPEEDING ST_COLCODE  \\\n0           NaN         NaN      NaN         10   \n1           NaN   6354039.0      NaN         11   \n2           NaN   4323031.0      NaN         32   \n3           NaN         NaN      NaN         23   \n4           NaN   4028032.0      NaN         10   \n\n                                          ST_COLDESC  SEGLANEKEY  \\\n0                                  Entering at angle           0   \n1  From same direction - both going straight - bo...           0   \n2                             One parked--one moving           0   \n3                   From same direction - all others           0   \n4                                  Entering at angle           0   \n\n   CROSSWALKKEY  HITPARKEDCAR  \n0             0             N  \n1             0             N  \n2             0             N  \n3             0             N  \n4             0             N  \n\n[5 rows x 38 columns]",
      "text/html": "<div>\n<style scoped>\n    .dataframe tbody tr th:only-of-type {\n        vertical-align: middle;\n    }\n\n    .dataframe tbody tr th {\n        vertical-align: top;\n    }\n\n    .dataframe thead th {\n        text-align: right;\n    }\n</style>\n<table border=\"1\" class=\"dataframe\">\n  <thead>\n    <tr style=\"text-align: right;\">\n      <th></th>\n      <th>SEVERITYCODE</th>\n      <th>X</th>\n      <th>Y</th>\n      <th>OBJECTID</th>\n      <th>INCKEY</th>\n      <th>COLDETKEY</th>\n      <th>REPORTNO</th>\n      <th>STATUS</th>\n      <th>ADDRTYPE</th>\n      <th>INTKEY</th>\n      <th>...</th>\n      <th>ROADCOND</th>\n      <th>LIGHTCOND</th>\n      <th>PEDROWNOTGRNT</th>\n      <th>SDOTCOLNUM</th>\n      <th>SPEEDING</th>\n      <th>ST_COLCODE</th>\n      <th>ST_COLDESC</th>\n      <th>SEGLANEKEY</th>\n      <th>CROSSWALKKEY</th>\n      <th>HITPARKEDCAR</th>\n    </tr>\n  </thead>\n  <tbody>\n    <tr>\n      <th>0</th>\n      <td>2</td>\n      <td>-122.323148</td>\n      <td>47.703140</td>\n      <td>1</td>\n      <td>1307</td>\n      <td>1307</td>\n      <td>3502005</td>\n      <td>Matched</td>\n      <td>Intersection</td>\n      <td>37475.0</td>\n      <td>...</td>\n      <td>Wet</td>\n      <td>Daylight</td>\n      <td>NaN</td>\n      <td>NaN</td>\n      <td>NaN</td>\n      <td>10</td>\n      <td>Entering at angle</td>\n      <td>0</td>\n      <td>0</td>\n      <td>N</td>\n    </tr>\n    <tr>\n      <th>1</th>\n      <td>1</td>\n      <td>-122.347294</td>\n      <td>47.647172</td>\n      <td>2</td>\n      <td>52200</td>\n      <td>52200</td>\n      <td>2607959</td>\n      <td>Matched</td>\n      <td>Block</td>\n      <td>NaN</td>\n      <td>...</td>\n      <td>Wet</td>\n      <td>Dark - Street Lights On</td>\n      <td>NaN</td>\n      <td>6354039.0</td>\n      <td>NaN</td>\n      <td>11</td>\n      <td>From same direction - both going straight - bo...</td>\n      <td>0</td>\n      <td>0</td>\n      <td>N</td>\n    </tr>\n    <tr>\n      <th>2</th>\n      <td>1</td>\n      <td>-122.334540</td>\n      <td>47.607871</td>\n      <td>3</td>\n      <td>26700</td>\n      <td>26700</td>\n      <td>1482393</td>\n      <td>Matched</td>\n      <td>Block</td>\n      <td>NaN</td>\n      <td>...</td>\n      <td>Dry</td>\n      <td>Daylight</td>\n      <td>NaN</td>\n      <td>4323031.0</td>\n      <td>NaN</td>\n      <td>32</td>\n      <td>One parked--one moving</td>\n      <td>0</td>\n      <td>0</td>\n      <td>N</td>\n    </tr>\n    <tr>\n      <th>3</th>\n      <td>1</td>\n      <td>-122.334803</td>\n      <td>47.604803</td>\n      <td>4</td>\n      <td>1144</td>\n      <td>1144</td>\n      <td>3503937</td>\n      <td>Matched</td>\n      <td>Block</td>\n      <td>NaN</td>\n      <td>...</td>\n      <td>Dry</td>\n      <td>Daylight</td>\n      <td>NaN</td>\n      <td>NaN</td>\n      <td>NaN</td>\n      <td>23</td>\n      <td>From same direction - all others</td>\n      <td>0</td>\n      <td>0</td>\n      <td>N</td>\n    </tr>\n    <tr>\n      <th>4</th>\n      <td>2</td>\n      <td>-122.306426</td>\n      <td>47.545739</td>\n      <td>5</td>\n      <td>17700</td>\n      <td>17700</td>\n      <td>1807429</td>\n      <td>Matched</td>\n      <td>Intersection</td>\n      <td>34387.0</td>\n      <td>...</td>\n      <td>Wet</td>\n      <td>Daylight</td>\n      <td>NaN</td>\n      <td>4028032.0</td>\n      <td>NaN</td>\n      <td>10</td>\n      <td>Entering at angle</td>\n      <td>0</td>\n      <td>0</td>\n      <td>N</td>\n    </tr>\n  </tbody>\n</table>\n<p>5 rows × 38 columns</p>\n</div>"
     },
     "metadata": {},
     "execution_count": 5
    }
   ],
   "source": [
    "AccidentData.head()"
   ]
  },
  {
   "cell_type": "code",
   "execution_count": 6,
   "metadata": {},
   "outputs": [],
   "source": [
    "#Create dataset from imported dataset called IncidentData\n",
    "IncidentData = AccidentData"
   ]
  },
  {
   "cell_type": "code",
   "execution_count": 7,
   "metadata": {},
   "outputs": [
    {
     "output_type": "execute_result",
     "data": {
      "text/plain": "194673"
     },
     "metadata": {},
     "execution_count": 7
    }
   ],
   "source": [
    "len(IncidentData.index)"
   ]
  },
  {
   "cell_type": "code",
   "execution_count": 8,
   "metadata": {},
   "outputs": [
    {
     "output_type": "execute_result",
     "data": {
      "text/plain": "38"
     },
     "metadata": {},
     "execution_count": 8
    }
   ],
   "source": [
    "len(IncidentData.columns)"
   ]
  },
  {
   "cell_type": "code",
   "execution_count": 9,
   "metadata": {},
   "outputs": [],
   "source": [
    "#Delete non-relevant columns (excl INCDATE and INCDTTM)\n",
    "IncidentData.drop(['X', 'Y','COLDETKEY', 'INCKEY', 'ADDRTYPE', 'REPORTNO', 'INTKEY', 'LOCATION', 'EXCEPTRSNCODE', 'EXCEPTRSNDESC', 'SDOT_COLCODE', 'SDOT_COLDESC', 'INATTENTIONIND', 'UNDERINFL', 'PEDROWNOTGRNT', 'SDOTCOLNUM', 'SPEEDING', 'ST_COLCODE', 'COLLISIONTYPE','ST_COLDESC', 'SEGLANEKEY', 'CROSSWALKKEY', 'HITPARKEDCAR', 'SEVERITYCODE.1', 'STATUS', 'PERSONCOUNT','PEDCOUNT','PEDCYLCOUNT','VEHCOUNT'], axis = 1, inplace = True)"
   ]
  },
  {
   "cell_type": "code",
   "execution_count": 10,
   "metadata": {},
   "outputs": [
    {
     "output_type": "execute_result",
     "data": {
      "text/plain": "   SEVERITYCODE  OBJECTID                    SEVERITYDESC  \\\n0             2         1                Injury Collision   \n1             1         2  Property Damage Only Collision   \n2             1         3  Property Damage Only Collision   \n3             1         4  Property Damage Only Collision   \n4             2         5                Injury Collision   \n\n                  INCDATE                 INCDTTM  \\\n0  2013/03/27 00:00:00+00    3/27/2013 2:54:00 PM   \n1  2006/12/20 00:00:00+00   12/20/2006 6:55:00 PM   \n2  2004/11/18 00:00:00+00  11/18/2004 10:20:00 AM   \n3  2013/03/29 00:00:00+00    3/29/2013 9:26:00 AM   \n4  2004/01/28 00:00:00+00    1/28/2004 8:04:00 AM   \n\n                              JUNCTIONTYPE   WEATHER ROADCOND  \\\n0   At Intersection (intersection related)  Overcast      Wet   \n1  Mid-Block (not related to intersection)   Raining      Wet   \n2  Mid-Block (not related to intersection)  Overcast      Dry   \n3  Mid-Block (not related to intersection)     Clear      Dry   \n4   At Intersection (intersection related)   Raining      Wet   \n\n                 LIGHTCOND  \n0                 Daylight  \n1  Dark - Street Lights On  \n2                 Daylight  \n3                 Daylight  \n4                 Daylight  ",
      "text/html": "<div>\n<style scoped>\n    .dataframe tbody tr th:only-of-type {\n        vertical-align: middle;\n    }\n\n    .dataframe tbody tr th {\n        vertical-align: top;\n    }\n\n    .dataframe thead th {\n        text-align: right;\n    }\n</style>\n<table border=\"1\" class=\"dataframe\">\n  <thead>\n    <tr style=\"text-align: right;\">\n      <th></th>\n      <th>SEVERITYCODE</th>\n      <th>OBJECTID</th>\n      <th>SEVERITYDESC</th>\n      <th>INCDATE</th>\n      <th>INCDTTM</th>\n      <th>JUNCTIONTYPE</th>\n      <th>WEATHER</th>\n      <th>ROADCOND</th>\n      <th>LIGHTCOND</th>\n    </tr>\n  </thead>\n  <tbody>\n    <tr>\n      <th>0</th>\n      <td>2</td>\n      <td>1</td>\n      <td>Injury Collision</td>\n      <td>2013/03/27 00:00:00+00</td>\n      <td>3/27/2013 2:54:00 PM</td>\n      <td>At Intersection (intersection related)</td>\n      <td>Overcast</td>\n      <td>Wet</td>\n      <td>Daylight</td>\n    </tr>\n    <tr>\n      <th>1</th>\n      <td>1</td>\n      <td>2</td>\n      <td>Property Damage Only Collision</td>\n      <td>2006/12/20 00:00:00+00</td>\n      <td>12/20/2006 6:55:00 PM</td>\n      <td>Mid-Block (not related to intersection)</td>\n      <td>Raining</td>\n      <td>Wet</td>\n      <td>Dark - Street Lights On</td>\n    </tr>\n    <tr>\n      <th>2</th>\n      <td>1</td>\n      <td>3</td>\n      <td>Property Damage Only Collision</td>\n      <td>2004/11/18 00:00:00+00</td>\n      <td>11/18/2004 10:20:00 AM</td>\n      <td>Mid-Block (not related to intersection)</td>\n      <td>Overcast</td>\n      <td>Dry</td>\n      <td>Daylight</td>\n    </tr>\n    <tr>\n      <th>3</th>\n      <td>1</td>\n      <td>4</td>\n      <td>Property Damage Only Collision</td>\n      <td>2013/03/29 00:00:00+00</td>\n      <td>3/29/2013 9:26:00 AM</td>\n      <td>Mid-Block (not related to intersection)</td>\n      <td>Clear</td>\n      <td>Dry</td>\n      <td>Daylight</td>\n    </tr>\n    <tr>\n      <th>4</th>\n      <td>2</td>\n      <td>5</td>\n      <td>Injury Collision</td>\n      <td>2004/01/28 00:00:00+00</td>\n      <td>1/28/2004 8:04:00 AM</td>\n      <td>At Intersection (intersection related)</td>\n      <td>Raining</td>\n      <td>Wet</td>\n      <td>Daylight</td>\n    </tr>\n  </tbody>\n</table>\n</div>"
     },
     "metadata": {},
     "execution_count": 10
    }
   ],
   "source": [
    "IncidentData.head()"
   ]
  },
  {
   "cell_type": "code",
   "execution_count": 11,
   "metadata": {},
   "outputs": [],
   "source": [
    "#Re-order columns\n",
    "IncidentData = IncidentData[['OBJECTID', 'SEVERITYCODE', 'SEVERITYDESC',  'INCDATE', 'INCDTTM', 'JUNCTIONTYPE', 'WEATHER', 'ROADCOND', 'LIGHTCOND']]"
   ]
  },
  {
   "cell_type": "code",
   "execution_count": 12,
   "metadata": {},
   "outputs": [
    {
     "output_type": "execute_result",
     "data": {
      "text/plain": "   OBJECTID  SEVERITYCODE                    SEVERITYDESC  \\\n0         1             2                Injury Collision   \n1         2             1  Property Damage Only Collision   \n2         3             1  Property Damage Only Collision   \n3         4             1  Property Damage Only Collision   \n4         5             2                Injury Collision   \n\n                  INCDATE                 INCDTTM  \\\n0  2013/03/27 00:00:00+00    3/27/2013 2:54:00 PM   \n1  2006/12/20 00:00:00+00   12/20/2006 6:55:00 PM   \n2  2004/11/18 00:00:00+00  11/18/2004 10:20:00 AM   \n3  2013/03/29 00:00:00+00    3/29/2013 9:26:00 AM   \n4  2004/01/28 00:00:00+00    1/28/2004 8:04:00 AM   \n\n                              JUNCTIONTYPE   WEATHER ROADCOND  \\\n0   At Intersection (intersection related)  Overcast      Wet   \n1  Mid-Block (not related to intersection)   Raining      Wet   \n2  Mid-Block (not related to intersection)  Overcast      Dry   \n3  Mid-Block (not related to intersection)     Clear      Dry   \n4   At Intersection (intersection related)   Raining      Wet   \n\n                 LIGHTCOND  \n0                 Daylight  \n1  Dark - Street Lights On  \n2                 Daylight  \n3                 Daylight  \n4                 Daylight  ",
      "text/html": "<div>\n<style scoped>\n    .dataframe tbody tr th:only-of-type {\n        vertical-align: middle;\n    }\n\n    .dataframe tbody tr th {\n        vertical-align: top;\n    }\n\n    .dataframe thead th {\n        text-align: right;\n    }\n</style>\n<table border=\"1\" class=\"dataframe\">\n  <thead>\n    <tr style=\"text-align: right;\">\n      <th></th>\n      <th>OBJECTID</th>\n      <th>SEVERITYCODE</th>\n      <th>SEVERITYDESC</th>\n      <th>INCDATE</th>\n      <th>INCDTTM</th>\n      <th>JUNCTIONTYPE</th>\n      <th>WEATHER</th>\n      <th>ROADCOND</th>\n      <th>LIGHTCOND</th>\n    </tr>\n  </thead>\n  <tbody>\n    <tr>\n      <th>0</th>\n      <td>1</td>\n      <td>2</td>\n      <td>Injury Collision</td>\n      <td>2013/03/27 00:00:00+00</td>\n      <td>3/27/2013 2:54:00 PM</td>\n      <td>At Intersection (intersection related)</td>\n      <td>Overcast</td>\n      <td>Wet</td>\n      <td>Daylight</td>\n    </tr>\n    <tr>\n      <th>1</th>\n      <td>2</td>\n      <td>1</td>\n      <td>Property Damage Only Collision</td>\n      <td>2006/12/20 00:00:00+00</td>\n      <td>12/20/2006 6:55:00 PM</td>\n      <td>Mid-Block (not related to intersection)</td>\n      <td>Raining</td>\n      <td>Wet</td>\n      <td>Dark - Street Lights On</td>\n    </tr>\n    <tr>\n      <th>2</th>\n      <td>3</td>\n      <td>1</td>\n      <td>Property Damage Only Collision</td>\n      <td>2004/11/18 00:00:00+00</td>\n      <td>11/18/2004 10:20:00 AM</td>\n      <td>Mid-Block (not related to intersection)</td>\n      <td>Overcast</td>\n      <td>Dry</td>\n      <td>Daylight</td>\n    </tr>\n    <tr>\n      <th>3</th>\n      <td>4</td>\n      <td>1</td>\n      <td>Property Damage Only Collision</td>\n      <td>2013/03/29 00:00:00+00</td>\n      <td>3/29/2013 9:26:00 AM</td>\n      <td>Mid-Block (not related to intersection)</td>\n      <td>Clear</td>\n      <td>Dry</td>\n      <td>Daylight</td>\n    </tr>\n    <tr>\n      <th>4</th>\n      <td>5</td>\n      <td>2</td>\n      <td>Injury Collision</td>\n      <td>2004/01/28 00:00:00+00</td>\n      <td>1/28/2004 8:04:00 AM</td>\n      <td>At Intersection (intersection related)</td>\n      <td>Raining</td>\n      <td>Wet</td>\n      <td>Daylight</td>\n    </tr>\n  </tbody>\n</table>\n</div>"
     },
     "metadata": {},
     "execution_count": 12
    }
   ],
   "source": [
    "IncidentData.head()"
   ]
  },
  {
   "cell_type": "code",
   "execution_count": 13,
   "metadata": {},
   "outputs": [
    {
     "output_type": "execute_result",
     "data": {
      "text/plain": "194673"
     },
     "metadata": {},
     "execution_count": 13
    }
   ],
   "source": [
    "len(IncidentData.index)"
   ]
  },
  {
   "cell_type": "code",
   "execution_count": 14,
   "metadata": {},
   "outputs": [
    {
     "output_type": "execute_result",
     "data": {
      "text/plain": "9"
     },
     "metadata": {},
     "execution_count": 14
    }
   ],
   "source": [
    "len(IncidentData.columns)"
   ]
  },
  {
   "cell_type": "code",
   "execution_count": 15,
   "metadata": {},
   "outputs": [
    {
     "output_type": "execute_result",
     "data": {
      "text/plain": "   OBJECTID  SEVERITYCODE  SEVERITYDESC  INCDATE  INCDTTM  JUNCTIONTYPE  \\\n0     False         False         False    False    False         False   \n1     False         False         False    False    False         False   \n2     False         False         False    False    False         False   \n3     False         False         False    False    False         False   \n4     False         False         False    False    False         False   \n\n   WEATHER  ROADCOND  LIGHTCOND  \n0    False     False      False  \n1    False     False      False  \n2    False     False      False  \n3    False     False      False  \n4    False     False      False  ",
      "text/html": "<div>\n<style scoped>\n    .dataframe tbody tr th:only-of-type {\n        vertical-align: middle;\n    }\n\n    .dataframe tbody tr th {\n        vertical-align: top;\n    }\n\n    .dataframe thead th {\n        text-align: right;\n    }\n</style>\n<table border=\"1\" class=\"dataframe\">\n  <thead>\n    <tr style=\"text-align: right;\">\n      <th></th>\n      <th>OBJECTID</th>\n      <th>SEVERITYCODE</th>\n      <th>SEVERITYDESC</th>\n      <th>INCDATE</th>\n      <th>INCDTTM</th>\n      <th>JUNCTIONTYPE</th>\n      <th>WEATHER</th>\n      <th>ROADCOND</th>\n      <th>LIGHTCOND</th>\n    </tr>\n  </thead>\n  <tbody>\n    <tr>\n      <th>0</th>\n      <td>False</td>\n      <td>False</td>\n      <td>False</td>\n      <td>False</td>\n      <td>False</td>\n      <td>False</td>\n      <td>False</td>\n      <td>False</td>\n      <td>False</td>\n    </tr>\n    <tr>\n      <th>1</th>\n      <td>False</td>\n      <td>False</td>\n      <td>False</td>\n      <td>False</td>\n      <td>False</td>\n      <td>False</td>\n      <td>False</td>\n      <td>False</td>\n      <td>False</td>\n    </tr>\n    <tr>\n      <th>2</th>\n      <td>False</td>\n      <td>False</td>\n      <td>False</td>\n      <td>False</td>\n      <td>False</td>\n      <td>False</td>\n      <td>False</td>\n      <td>False</td>\n      <td>False</td>\n    </tr>\n    <tr>\n      <th>3</th>\n      <td>False</td>\n      <td>False</td>\n      <td>False</td>\n      <td>False</td>\n      <td>False</td>\n      <td>False</td>\n      <td>False</td>\n      <td>False</td>\n      <td>False</td>\n    </tr>\n    <tr>\n      <th>4</th>\n      <td>False</td>\n      <td>False</td>\n      <td>False</td>\n      <td>False</td>\n      <td>False</td>\n      <td>False</td>\n      <td>False</td>\n      <td>False</td>\n      <td>False</td>\n    </tr>\n  </tbody>\n</table>\n</div>"
     },
     "metadata": {},
     "execution_count": 15
    }
   ],
   "source": [
    "#Identify missing values - first iteration\n",
    "CleanData = IncidentData.isnull()\n",
    "CleanData.head(5)\n",
    "#Missing data = True"
   ]
  },
  {
   "cell_type": "code",
   "execution_count": 16,
   "metadata": {
    "tags": []
   },
   "outputs": [
    {
     "output_type": "stream",
     "name": "stdout",
     "text": "OBJECTID\nFalse    194673\nName: OBJECTID, dtype: int64\n\nSEVERITYCODE\nFalse    194673\nName: SEVERITYCODE, dtype: int64\n\nSEVERITYDESC\nFalse    194673\nName: SEVERITYDESC, dtype: int64\n\nINCDATE\nFalse    194673\nName: INCDATE, dtype: int64\n\nINCDTTM\nFalse    194673\nName: INCDTTM, dtype: int64\n\nJUNCTIONTYPE\nFalse    188344\nTrue       6329\nName: JUNCTIONTYPE, dtype: int64\n\nWEATHER\nFalse    189592\nTrue       5081\nName: WEATHER, dtype: int64\n\nROADCOND\nFalse    189661\nTrue       5012\nName: ROADCOND, dtype: int64\n\nLIGHTCOND\nFalse    189503\nTrue       5170\nName: LIGHTCOND, dtype: int64\n\n"
    }
   ],
   "source": [
    "#Count the missing values in each column\n",
    "for column in CleanData.columns.values.tolist():\n",
    "    print(column)\n",
    "    print (CleanData[column].value_counts())\n",
    "    print(\"\")  "
   ]
  },
  {
   "cell_type": "code",
   "execution_count": null,
   "metadata": {},
   "outputs": [],
   "source": [
    "#Based on the above analysis, the following columns have missing values:\n",
    "# - JUNTIONTYPE (6329) - 3.25% of dataset\n",
    "# - WEATHER (5081) - 2.6% of dataset\n",
    "# - ROADCOND (5012) - 2.6% of dataset\n",
    "# - LIGHTCOND (5170) - 2.7% of dataset\n",
    "#Further anlaysis on the csv dataset indicates that in 4947 cases the combination of WEATHER, ROADCOND and LIGHTCOND have empty fields and will therefore not contribute to the scope of the analysis and can be deleted. The balance of empty values for WEATHER (134), ROADCOND (65) and LIGHTCOND (223) are less than 0.2% of the dataset and can also be deleted."
   ]
  },
  {
   "cell_type": "code",
   "execution_count": 17,
   "metadata": {},
   "outputs": [],
   "source": [
    "#Drop rows where WEATHER, ROADCOND AND LIGHTCONT have missing data.\n",
    "\n",
    "IncidentData.dropna(subset=['WEATHER', 'ROADCOND', 'LIGHTCOND'], axis=0, inplace = True)\n"
   ]
  },
  {
   "cell_type": "code",
   "execution_count": 19,
   "metadata": {},
   "outputs": [
    {
     "output_type": "execute_result",
     "data": {
      "text/plain": "189337"
     },
     "metadata": {},
     "execution_count": 19
    }
   ],
   "source": [
    "len(IncidentData.index)"
   ]
  },
  {
   "cell_type": "code",
   "execution_count": 20,
   "metadata": {},
   "outputs": [],
   "source": [
    "# Reset index, because rows were dropped\n",
    "IncidentData.reset_index(drop=True, inplace=True)"
   ]
  },
  {
   "cell_type": "code",
   "execution_count": 21,
   "metadata": {},
   "outputs": [
    {
     "output_type": "execute_result",
     "data": {
      "text/plain": "   OBJECTID  SEVERITYCODE  SEVERITYDESC  INCDATE  INCDTTM  JUNCTIONTYPE  \\\n0     False         False         False    False    False         False   \n1     False         False         False    False    False         False   \n2     False         False         False    False    False         False   \n3     False         False         False    False    False         False   \n4     False         False         False    False    False         False   \n\n   WEATHER  ROADCOND  LIGHTCOND  \n0    False     False      False  \n1    False     False      False  \n2    False     False      False  \n3    False     False      False  \n4    False     False      False  ",
      "text/html": "<div>\n<style scoped>\n    .dataframe tbody tr th:only-of-type {\n        vertical-align: middle;\n    }\n\n    .dataframe tbody tr th {\n        vertical-align: top;\n    }\n\n    .dataframe thead th {\n        text-align: right;\n    }\n</style>\n<table border=\"1\" class=\"dataframe\">\n  <thead>\n    <tr style=\"text-align: right;\">\n      <th></th>\n      <th>OBJECTID</th>\n      <th>SEVERITYCODE</th>\n      <th>SEVERITYDESC</th>\n      <th>INCDATE</th>\n      <th>INCDTTM</th>\n      <th>JUNCTIONTYPE</th>\n      <th>WEATHER</th>\n      <th>ROADCOND</th>\n      <th>LIGHTCOND</th>\n    </tr>\n  </thead>\n  <tbody>\n    <tr>\n      <th>0</th>\n      <td>False</td>\n      <td>False</td>\n      <td>False</td>\n      <td>False</td>\n      <td>False</td>\n      <td>False</td>\n      <td>False</td>\n      <td>False</td>\n      <td>False</td>\n    </tr>\n    <tr>\n      <th>1</th>\n      <td>False</td>\n      <td>False</td>\n      <td>False</td>\n      <td>False</td>\n      <td>False</td>\n      <td>False</td>\n      <td>False</td>\n      <td>False</td>\n      <td>False</td>\n    </tr>\n    <tr>\n      <th>2</th>\n      <td>False</td>\n      <td>False</td>\n      <td>False</td>\n      <td>False</td>\n      <td>False</td>\n      <td>False</td>\n      <td>False</td>\n      <td>False</td>\n      <td>False</td>\n    </tr>\n    <tr>\n      <th>3</th>\n      <td>False</td>\n      <td>False</td>\n      <td>False</td>\n      <td>False</td>\n      <td>False</td>\n      <td>False</td>\n      <td>False</td>\n      <td>False</td>\n      <td>False</td>\n    </tr>\n    <tr>\n      <th>4</th>\n      <td>False</td>\n      <td>False</td>\n      <td>False</td>\n      <td>False</td>\n      <td>False</td>\n      <td>False</td>\n      <td>False</td>\n      <td>False</td>\n      <td>False</td>\n    </tr>\n  </tbody>\n</table>\n</div>"
     },
     "metadata": {},
     "execution_count": 21
    }
   ],
   "source": [
    "#Identify missing values - second iteration\n",
    "CleanData2 = IncidentData.isnull()\n",
    "CleanData.head(5)\n",
    "#Missing data = True"
   ]
  },
  {
   "cell_type": "code",
   "execution_count": 22,
   "metadata": {
    "tags": []
   },
   "outputs": [
    {
     "output_type": "stream",
     "name": "stdout",
     "text": "OBJECTID\nFalse    189337\nName: OBJECTID, dtype: int64\n\nSEVERITYCODE\nFalse    189337\nName: SEVERITYCODE, dtype: int64\n\nSEVERITYDESC\nFalse    189337\nName: SEVERITYDESC, dtype: int64\n\nINCDATE\nFalse    189337\nName: INCDATE, dtype: int64\n\nINCDTTM\nFalse    189337\nName: INCDTTM, dtype: int64\n\nJUNCTIONTYPE\nFalse    183196\nTrue       6141\nName: JUNCTIONTYPE, dtype: int64\n\nWEATHER\nFalse    189337\nName: WEATHER, dtype: int64\n\nROADCOND\nFalse    189337\nName: ROADCOND, dtype: int64\n\nLIGHTCOND\nFalse    189337\nName: LIGHTCOND, dtype: int64\n\n"
    }
   ],
   "source": [
    "#Count the missing values in each column on the updated dataset\n",
    "for column in CleanData2.columns.values.tolist():\n",
    "    print(column)\n",
    "    print (CleanData2[column].value_counts())\n",
    "    print(\"\")  "
   ]
  },
  {
   "cell_type": "code",
   "execution_count": 23,
   "metadata": {},
   "outputs": [],
   "source": [
    "# Replace empty values in the JUNTIONTYPE column with 'Unknown'\n",
    "IncidentData[\"JUNCTIONTYPE\"].replace(np.nan, \"Unknown\", inplace=True)"
   ]
  },
  {
   "cell_type": "code",
   "execution_count": 24,
   "metadata": {},
   "outputs": [
    {
     "output_type": "execute_result",
     "data": {
      "text/plain": "   OBJECTID  SEVERITYCODE  SEVERITYDESC  INCDATE  INCDTTM  JUNCTIONTYPE  \\\n0     False         False         False    False    False         False   \n1     False         False         False    False    False         False   \n2     False         False         False    False    False         False   \n3     False         False         False    False    False         False   \n4     False         False         False    False    False         False   \n\n   WEATHER  ROADCOND  LIGHTCOND  \n0    False     False      False  \n1    False     False      False  \n2    False     False      False  \n3    False     False      False  \n4    False     False      False  ",
      "text/html": "<div>\n<style scoped>\n    .dataframe tbody tr th:only-of-type {\n        vertical-align: middle;\n    }\n\n    .dataframe tbody tr th {\n        vertical-align: top;\n    }\n\n    .dataframe thead th {\n        text-align: right;\n    }\n</style>\n<table border=\"1\" class=\"dataframe\">\n  <thead>\n    <tr style=\"text-align: right;\">\n      <th></th>\n      <th>OBJECTID</th>\n      <th>SEVERITYCODE</th>\n      <th>SEVERITYDESC</th>\n      <th>INCDATE</th>\n      <th>INCDTTM</th>\n      <th>JUNCTIONTYPE</th>\n      <th>WEATHER</th>\n      <th>ROADCOND</th>\n      <th>LIGHTCOND</th>\n    </tr>\n  </thead>\n  <tbody>\n    <tr>\n      <th>0</th>\n      <td>False</td>\n      <td>False</td>\n      <td>False</td>\n      <td>False</td>\n      <td>False</td>\n      <td>False</td>\n      <td>False</td>\n      <td>False</td>\n      <td>False</td>\n    </tr>\n    <tr>\n      <th>1</th>\n      <td>False</td>\n      <td>False</td>\n      <td>False</td>\n      <td>False</td>\n      <td>False</td>\n      <td>False</td>\n      <td>False</td>\n      <td>False</td>\n      <td>False</td>\n    </tr>\n    <tr>\n      <th>2</th>\n      <td>False</td>\n      <td>False</td>\n      <td>False</td>\n      <td>False</td>\n      <td>False</td>\n      <td>False</td>\n      <td>False</td>\n      <td>False</td>\n      <td>False</td>\n    </tr>\n    <tr>\n      <th>3</th>\n      <td>False</td>\n      <td>False</td>\n      <td>False</td>\n      <td>False</td>\n      <td>False</td>\n      <td>False</td>\n      <td>False</td>\n      <td>False</td>\n      <td>False</td>\n    </tr>\n    <tr>\n      <th>4</th>\n      <td>False</td>\n      <td>False</td>\n      <td>False</td>\n      <td>False</td>\n      <td>False</td>\n      <td>False</td>\n      <td>False</td>\n      <td>False</td>\n      <td>False</td>\n    </tr>\n  </tbody>\n</table>\n</div>"
     },
     "metadata": {},
     "execution_count": 24
    }
   ],
   "source": [
    "#Identify missing values - 3rd iteration\n",
    "CleanData3 = IncidentData.isnull()\n",
    "CleanData.head(5)\n",
    "#Missing data = True"
   ]
  },
  {
   "cell_type": "code",
   "execution_count": 25,
   "metadata": {
    "tags": []
   },
   "outputs": [
    {
     "output_type": "stream",
     "name": "stdout",
     "text": "OBJECTID\nFalse    189337\nName: OBJECTID, dtype: int64\n\nSEVERITYCODE\nFalse    189337\nName: SEVERITYCODE, dtype: int64\n\nSEVERITYDESC\nFalse    189337\nName: SEVERITYDESC, dtype: int64\n\nINCDATE\nFalse    189337\nName: INCDATE, dtype: int64\n\nINCDTTM\nFalse    189337\nName: INCDTTM, dtype: int64\n\nJUNCTIONTYPE\nFalse    189337\nName: JUNCTIONTYPE, dtype: int64\n\nWEATHER\nFalse    189337\nName: WEATHER, dtype: int64\n\nROADCOND\nFalse    189337\nName: ROADCOND, dtype: int64\n\nLIGHTCOND\nFalse    189337\nName: LIGHTCOND, dtype: int64\n\n"
    }
   ],
   "source": [
    "for column in CleanData3.columns.values.tolist():\n",
    "    print(column)\n",
    "    print (CleanData3[column].value_counts())\n",
    "    print(\"\") "
   ]
  },
  {
   "cell_type": "code",
   "execution_count": 26,
   "metadata": {},
   "outputs": [
    {
     "output_type": "execute_result",
     "data": {
      "text/plain": "   OBJECTID  SEVERITYCODE                    SEVERITYDESC  \\\n0         1             2                Injury Collision   \n1         2             1  Property Damage Only Collision   \n2         3             1  Property Damage Only Collision   \n3         4             1  Property Damage Only Collision   \n4         5             2                Injury Collision   \n\n                  INCDATE                 INCDTTM  \\\n0  2013/03/27 00:00:00+00    3/27/2013 2:54:00 PM   \n1  2006/12/20 00:00:00+00   12/20/2006 6:55:00 PM   \n2  2004/11/18 00:00:00+00  11/18/2004 10:20:00 AM   \n3  2013/03/29 00:00:00+00    3/29/2013 9:26:00 AM   \n4  2004/01/28 00:00:00+00    1/28/2004 8:04:00 AM   \n\n                              JUNCTIONTYPE   WEATHER ROADCOND  \\\n0   At Intersection (intersection related)  Overcast      Wet   \n1  Mid-Block (not related to intersection)   Raining      Wet   \n2  Mid-Block (not related to intersection)  Overcast      Dry   \n3  Mid-Block (not related to intersection)     Clear      Dry   \n4   At Intersection (intersection related)   Raining      Wet   \n\n                 LIGHTCOND  \n0                 Daylight  \n1  Dark - Street Lights On  \n2                 Daylight  \n3                 Daylight  \n4                 Daylight  ",
      "text/html": "<div>\n<style scoped>\n    .dataframe tbody tr th:only-of-type {\n        vertical-align: middle;\n    }\n\n    .dataframe tbody tr th {\n        vertical-align: top;\n    }\n\n    .dataframe thead th {\n        text-align: right;\n    }\n</style>\n<table border=\"1\" class=\"dataframe\">\n  <thead>\n    <tr style=\"text-align: right;\">\n      <th></th>\n      <th>OBJECTID</th>\n      <th>SEVERITYCODE</th>\n      <th>SEVERITYDESC</th>\n      <th>INCDATE</th>\n      <th>INCDTTM</th>\n      <th>JUNCTIONTYPE</th>\n      <th>WEATHER</th>\n      <th>ROADCOND</th>\n      <th>LIGHTCOND</th>\n    </tr>\n  </thead>\n  <tbody>\n    <tr>\n      <th>0</th>\n      <td>1</td>\n      <td>2</td>\n      <td>Injury Collision</td>\n      <td>2013/03/27 00:00:00+00</td>\n      <td>3/27/2013 2:54:00 PM</td>\n      <td>At Intersection (intersection related)</td>\n      <td>Overcast</td>\n      <td>Wet</td>\n      <td>Daylight</td>\n    </tr>\n    <tr>\n      <th>1</th>\n      <td>2</td>\n      <td>1</td>\n      <td>Property Damage Only Collision</td>\n      <td>2006/12/20 00:00:00+00</td>\n      <td>12/20/2006 6:55:00 PM</td>\n      <td>Mid-Block (not related to intersection)</td>\n      <td>Raining</td>\n      <td>Wet</td>\n      <td>Dark - Street Lights On</td>\n    </tr>\n    <tr>\n      <th>2</th>\n      <td>3</td>\n      <td>1</td>\n      <td>Property Damage Only Collision</td>\n      <td>2004/11/18 00:00:00+00</td>\n      <td>11/18/2004 10:20:00 AM</td>\n      <td>Mid-Block (not related to intersection)</td>\n      <td>Overcast</td>\n      <td>Dry</td>\n      <td>Daylight</td>\n    </tr>\n    <tr>\n      <th>3</th>\n      <td>4</td>\n      <td>1</td>\n      <td>Property Damage Only Collision</td>\n      <td>2013/03/29 00:00:00+00</td>\n      <td>3/29/2013 9:26:00 AM</td>\n      <td>Mid-Block (not related to intersection)</td>\n      <td>Clear</td>\n      <td>Dry</td>\n      <td>Daylight</td>\n    </tr>\n    <tr>\n      <th>4</th>\n      <td>5</td>\n      <td>2</td>\n      <td>Injury Collision</td>\n      <td>2004/01/28 00:00:00+00</td>\n      <td>1/28/2004 8:04:00 AM</td>\n      <td>At Intersection (intersection related)</td>\n      <td>Raining</td>\n      <td>Wet</td>\n      <td>Daylight</td>\n    </tr>\n  </tbody>\n</table>\n</div>"
     },
     "metadata": {},
     "execution_count": 26
    }
   ],
   "source": [
    "IncidentData.head()"
   ]
  },
  {
   "cell_type": "code",
   "execution_count": 27,
   "metadata": {},
   "outputs": [
    {
     "output_type": "execute_result",
     "data": {
      "text/plain": "189337"
     },
     "metadata": {},
     "execution_count": 27
    }
   ],
   "source": [
    "len(IncidentData.index)"
   ]
  },
  {
   "cell_type": "code",
   "execution_count": 28,
   "metadata": {},
   "outputs": [
    {
     "output_type": "execute_result",
     "data": {
      "text/plain": "9"
     },
     "metadata": {},
     "execution_count": 28
    }
   ],
   "source": [
    "len(IncidentData.columns)"
   ]
  },
  {
   "cell_type": "code",
   "execution_count": 29,
   "metadata": {},
   "outputs": [],
   "source": [
    "# Export pandas dataframe to laptop for further use in analysis\n",
    "IncidentData.to_csv(r'E:\\Training Development\\Coursera\\IBM Data Science\\Course 9 - Capstone Project\\Capstone Project Data\\IncidentData_1.csv', index = None, header = True)"
   ]
  },
  {
   "cell_type": "code",
   "execution_count": null,
   "metadata": {},
   "outputs": [],
   "source": []
  }
 ]
}