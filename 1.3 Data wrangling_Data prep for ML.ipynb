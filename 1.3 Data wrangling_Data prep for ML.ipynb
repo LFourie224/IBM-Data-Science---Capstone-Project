{
 "metadata": {
  "language_info": {
   "codemirror_mode": {
    "name": "ipython",
    "version": 3
   },
   "file_extension": ".py",
   "mimetype": "text/x-python",
   "name": "python",
   "nbconvert_exporter": "python",
   "pygments_lexer": "ipython3",
   "version": "3.7.7-final"
  },
  "orig_nbformat": 2,
  "kernelspec": {
   "name": "python37732bitmyenvcondacdd7653a66d44e76b9f4e68fbb6ca43c",
   "display_name": "Python 3.7.7 32-bit ('myenv': conda)"
  }
 },
 "nbformat": 4,
 "nbformat_minor": 2,
 "cells": [
  {
   "cell_type": "code",
   "execution_count": 1,
   "metadata": {},
   "outputs": [],
   "source": [
    "import pandas as pd \n",
    "import numpy as np\n",
    "import itertools\n",
    "import matplotlib.pyplot as plt\n",
    "from matplotlib.ticker import NullFormatter\n",
    "from sklearn import preprocessing\n",
    "%matplotlib inline"
   ]
  },
  {
   "cell_type": "markdown",
   "metadata": {},
   "source": [
    "# Import and analyse data set"
   ]
  },
  {
   "cell_type": "code",
   "execution_count": 2,
   "metadata": {},
   "outputs": [],
   "source": [
    "#Import dataset - same dataset used for Exploratory Analysis\n",
    "AccidentData4 = pd.read_csv('E:\\Training Development\\Coursera\\IBM Data Science\\Course 9 - Capstone Project\\Capstone Project Data\\AccidentData_2.csv')"
   ]
  },
  {
   "cell_type": "code",
   "execution_count": 3,
   "metadata": {},
   "outputs": [
    {
     "output_type": "execute_result",
     "data": {
      "text/plain": "   OBJECTID  SEVERITYCODE                    SEVERITYDESC  \\\n0         1             2                Injury Collision   \n1         2             1  Property Damage Only Collision   \n2         3             1  Property Damage Only Collision   \n3         4             1  Property Damage Only Collision   \n4         5             2                Injury Collision   \n\n                              JUNCTIONTYPE   WEATHER ROADCOND  \\\n0   At Intersection (intersection related)  Overcast      Wet   \n1  Mid-Block (not related to intersection)   Raining      Wet   \n2  Mid-Block (not related to intersection)  Overcast      Dry   \n3  Mid-Block (not related to intersection)     Clear      Dry   \n4   At Intersection (intersection related)   Raining      Wet   \n\n                 LIGHTCOND  Day of week  Month of Year  \n0                 Daylight            2              3  \n1  Dark - Street Lights On            2             12  \n2                 Daylight            3             11  \n3                 Daylight            4              3  \n4                 Daylight            2              1  ",
      "text/html": "<div>\n<style scoped>\n    .dataframe tbody tr th:only-of-type {\n        vertical-align: middle;\n    }\n\n    .dataframe tbody tr th {\n        vertical-align: top;\n    }\n\n    .dataframe thead th {\n        text-align: right;\n    }\n</style>\n<table border=\"1\" class=\"dataframe\">\n  <thead>\n    <tr style=\"text-align: right;\">\n      <th></th>\n      <th>OBJECTID</th>\n      <th>SEVERITYCODE</th>\n      <th>SEVERITYDESC</th>\n      <th>JUNCTIONTYPE</th>\n      <th>WEATHER</th>\n      <th>ROADCOND</th>\n      <th>LIGHTCOND</th>\n      <th>Day of week</th>\n      <th>Month of Year</th>\n    </tr>\n  </thead>\n  <tbody>\n    <tr>\n      <th>0</th>\n      <td>1</td>\n      <td>2</td>\n      <td>Injury Collision</td>\n      <td>At Intersection (intersection related)</td>\n      <td>Overcast</td>\n      <td>Wet</td>\n      <td>Daylight</td>\n      <td>2</td>\n      <td>3</td>\n    </tr>\n    <tr>\n      <th>1</th>\n      <td>2</td>\n      <td>1</td>\n      <td>Property Damage Only Collision</td>\n      <td>Mid-Block (not related to intersection)</td>\n      <td>Raining</td>\n      <td>Wet</td>\n      <td>Dark - Street Lights On</td>\n      <td>2</td>\n      <td>12</td>\n    </tr>\n    <tr>\n      <th>2</th>\n      <td>3</td>\n      <td>1</td>\n      <td>Property Damage Only Collision</td>\n      <td>Mid-Block (not related to intersection)</td>\n      <td>Overcast</td>\n      <td>Dry</td>\n      <td>Daylight</td>\n      <td>3</td>\n      <td>11</td>\n    </tr>\n    <tr>\n      <th>3</th>\n      <td>4</td>\n      <td>1</td>\n      <td>Property Damage Only Collision</td>\n      <td>Mid-Block (not related to intersection)</td>\n      <td>Clear</td>\n      <td>Dry</td>\n      <td>Daylight</td>\n      <td>4</td>\n      <td>3</td>\n    </tr>\n    <tr>\n      <th>4</th>\n      <td>5</td>\n      <td>2</td>\n      <td>Injury Collision</td>\n      <td>At Intersection (intersection related)</td>\n      <td>Raining</td>\n      <td>Wet</td>\n      <td>Daylight</td>\n      <td>2</td>\n      <td>1</td>\n    </tr>\n  </tbody>\n</table>\n</div>"
     },
     "metadata": {},
     "execution_count": 3
    }
   ],
   "source": [
    "AccidentData4.head()"
   ]
  },
  {
   "cell_type": "code",
   "execution_count": 4,
   "metadata": {},
   "outputs": [
    {
     "output_type": "execute_result",
     "data": {
      "text/plain": "189337"
     },
     "metadata": {},
     "execution_count": 4
    }
   ],
   "source": [
    "len(AccidentData4.index)"
   ]
  },
  {
   "cell_type": "code",
   "execution_count": 5,
   "metadata": {},
   "outputs": [
    {
     "output_type": "execute_result",
     "data": {
      "text/plain": "9"
     },
     "metadata": {},
     "execution_count": 5
    }
   ],
   "source": [
    "len(AccidentData4.columns)"
   ]
  },
  {
   "cell_type": "markdown",
   "metadata": {},
   "source": [
    "# Change WEATHER attributes to integers"
   ]
  },
  {
   "cell_type": "code",
   "execution_count": 6,
   "metadata": {},
   "outputs": [],
   "source": [
    "AccidentData4.WEATHER.replace(to_replace=['Overcast'],value='1', inplace = True)\n",
    "AccidentData4.WEATHER.replace(to_replace=['Raining'],value='2', inplace = True)\n",
    "AccidentData4.WEATHER.replace(to_replace=['Clear'],value='3', inplace = True)\n",
    "AccidentData4.WEATHER.replace(to_replace=['Blowing Sand/Dirt'],value='4', inplace = True)\n",
    "AccidentData4.WEATHER.replace(to_replace=['Fog/Smog/Smoke'],value='5', inplace = True)\n",
    "AccidentData4.WEATHER.replace(to_replace=['Other'],value='6', inplace = True)\n",
    "AccidentData4.WEATHER.replace(to_replace=['Partly Cloudy'],value='7', inplace = True)\n",
    "AccidentData4.WEATHER.replace(to_replace=['Severe Crosswind'],value='8', inplace = True)\n",
    "AccidentData4.WEATHER.replace(to_replace=['Sleet/Hail/Freezing Rain'],value='9', inplace = True)\n",
    "AccidentData4.WEATHER.replace(to_replace=['Snowing'],value='10', inplace = True)\n",
    "AccidentData4.WEATHER.replace(to_replace=['Unknown'],value='11', inplace = True)"
   ]
  },
  {
   "cell_type": "code",
   "execution_count": 7,
   "metadata": {},
   "outputs": [
    {
     "output_type": "execute_result",
     "data": {
      "text/plain": "   OBJECTID  SEVERITYCODE                    SEVERITYDESC  \\\n0         1             2                Injury Collision   \n1         2             1  Property Damage Only Collision   \n2         3             1  Property Damage Only Collision   \n3         4             1  Property Damage Only Collision   \n4         5             2                Injury Collision   \n\n                              JUNCTIONTYPE WEATHER ROADCOND  \\\n0   At Intersection (intersection related)       1      Wet   \n1  Mid-Block (not related to intersection)       2      Wet   \n2  Mid-Block (not related to intersection)       1      Dry   \n3  Mid-Block (not related to intersection)       3      Dry   \n4   At Intersection (intersection related)       2      Wet   \n\n                 LIGHTCOND  Day of week  Month of Year  \n0                 Daylight            2              3  \n1  Dark - Street Lights On            2             12  \n2                 Daylight            3             11  \n3                 Daylight            4              3  \n4                 Daylight            2              1  ",
      "text/html": "<div>\n<style scoped>\n    .dataframe tbody tr th:only-of-type {\n        vertical-align: middle;\n    }\n\n    .dataframe tbody tr th {\n        vertical-align: top;\n    }\n\n    .dataframe thead th {\n        text-align: right;\n    }\n</style>\n<table border=\"1\" class=\"dataframe\">\n  <thead>\n    <tr style=\"text-align: right;\">\n      <th></th>\n      <th>OBJECTID</th>\n      <th>SEVERITYCODE</th>\n      <th>SEVERITYDESC</th>\n      <th>JUNCTIONTYPE</th>\n      <th>WEATHER</th>\n      <th>ROADCOND</th>\n      <th>LIGHTCOND</th>\n      <th>Day of week</th>\n      <th>Month of Year</th>\n    </tr>\n  </thead>\n  <tbody>\n    <tr>\n      <th>0</th>\n      <td>1</td>\n      <td>2</td>\n      <td>Injury Collision</td>\n      <td>At Intersection (intersection related)</td>\n      <td>1</td>\n      <td>Wet</td>\n      <td>Daylight</td>\n      <td>2</td>\n      <td>3</td>\n    </tr>\n    <tr>\n      <th>1</th>\n      <td>2</td>\n      <td>1</td>\n      <td>Property Damage Only Collision</td>\n      <td>Mid-Block (not related to intersection)</td>\n      <td>2</td>\n      <td>Wet</td>\n      <td>Dark - Street Lights On</td>\n      <td>2</td>\n      <td>12</td>\n    </tr>\n    <tr>\n      <th>2</th>\n      <td>3</td>\n      <td>1</td>\n      <td>Property Damage Only Collision</td>\n      <td>Mid-Block (not related to intersection)</td>\n      <td>1</td>\n      <td>Dry</td>\n      <td>Daylight</td>\n      <td>3</td>\n      <td>11</td>\n    </tr>\n    <tr>\n      <th>3</th>\n      <td>4</td>\n      <td>1</td>\n      <td>Property Damage Only Collision</td>\n      <td>Mid-Block (not related to intersection)</td>\n      <td>3</td>\n      <td>Dry</td>\n      <td>Daylight</td>\n      <td>4</td>\n      <td>3</td>\n    </tr>\n    <tr>\n      <th>4</th>\n      <td>5</td>\n      <td>2</td>\n      <td>Injury Collision</td>\n      <td>At Intersection (intersection related)</td>\n      <td>2</td>\n      <td>Wet</td>\n      <td>Daylight</td>\n      <td>2</td>\n      <td>1</td>\n    </tr>\n  </tbody>\n</table>\n</div>"
     },
     "metadata": {},
     "execution_count": 7
    }
   ],
   "source": [
    "AccidentData4.head()"
   ]
  },
  {
   "cell_type": "markdown",
   "metadata": {},
   "source": [
    "Change ROADCOND attributes to integers"
   ]
  },
  {
   "cell_type": "code",
   "execution_count": 8,
   "metadata": {},
   "outputs": [],
   "source": [
    "AccidentData4.ROADCOND.replace(to_replace=['Dry'],value='1', inplace = True)\n",
    "AccidentData4.ROADCOND.replace(to_replace=['Ice'],value='2', inplace = True)\n",
    "AccidentData4.ROADCOND.replace(to_replace=['Oil'],value='3', inplace = True)\n",
    "AccidentData4.ROADCOND.replace(to_replace=['Other'],value='4', inplace = True)\n",
    "AccidentData4.ROADCOND.replace(to_replace=['Sand/Mud/Dirt'],value='5', inplace = True)\n",
    "AccidentData4.ROADCOND.replace(to_replace=['Snow/Slush'],value='6', inplace = True)\n",
    "AccidentData4.ROADCOND.replace(to_replace=['Standing Water'],value='7', inplace = True)\n",
    "AccidentData4.ROADCOND.replace(to_replace=['Unknown'],value='8', inplace = True)\n",
    "AccidentData4.ROADCOND.replace(to_replace=['Wet'],value='9', inplace = True)"
   ]
  },
  {
   "cell_type": "code",
   "execution_count": 9,
   "metadata": {},
   "outputs": [
    {
     "output_type": "execute_result",
     "data": {
      "text/plain": "   OBJECTID  SEVERITYCODE                    SEVERITYDESC  \\\n0         1             2                Injury Collision   \n1         2             1  Property Damage Only Collision   \n2         3             1  Property Damage Only Collision   \n3         4             1  Property Damage Only Collision   \n4         5             2                Injury Collision   \n\n                              JUNCTIONTYPE WEATHER ROADCOND  \\\n0   At Intersection (intersection related)       1        9   \n1  Mid-Block (not related to intersection)       2        9   \n2  Mid-Block (not related to intersection)       1        1   \n3  Mid-Block (not related to intersection)       3        1   \n4   At Intersection (intersection related)       2        9   \n\n                 LIGHTCOND  Day of week  Month of Year  \n0                 Daylight            2              3  \n1  Dark - Street Lights On            2             12  \n2                 Daylight            3             11  \n3                 Daylight            4              3  \n4                 Daylight            2              1  ",
      "text/html": "<div>\n<style scoped>\n    .dataframe tbody tr th:only-of-type {\n        vertical-align: middle;\n    }\n\n    .dataframe tbody tr th {\n        vertical-align: top;\n    }\n\n    .dataframe thead th {\n        text-align: right;\n    }\n</style>\n<table border=\"1\" class=\"dataframe\">\n  <thead>\n    <tr style=\"text-align: right;\">\n      <th></th>\n      <th>OBJECTID</th>\n      <th>SEVERITYCODE</th>\n      <th>SEVERITYDESC</th>\n      <th>JUNCTIONTYPE</th>\n      <th>WEATHER</th>\n      <th>ROADCOND</th>\n      <th>LIGHTCOND</th>\n      <th>Day of week</th>\n      <th>Month of Year</th>\n    </tr>\n  </thead>\n  <tbody>\n    <tr>\n      <th>0</th>\n      <td>1</td>\n      <td>2</td>\n      <td>Injury Collision</td>\n      <td>At Intersection (intersection related)</td>\n      <td>1</td>\n      <td>9</td>\n      <td>Daylight</td>\n      <td>2</td>\n      <td>3</td>\n    </tr>\n    <tr>\n      <th>1</th>\n      <td>2</td>\n      <td>1</td>\n      <td>Property Damage Only Collision</td>\n      <td>Mid-Block (not related to intersection)</td>\n      <td>2</td>\n      <td>9</td>\n      <td>Dark - Street Lights On</td>\n      <td>2</td>\n      <td>12</td>\n    </tr>\n    <tr>\n      <th>2</th>\n      <td>3</td>\n      <td>1</td>\n      <td>Property Damage Only Collision</td>\n      <td>Mid-Block (not related to intersection)</td>\n      <td>1</td>\n      <td>1</td>\n      <td>Daylight</td>\n      <td>3</td>\n      <td>11</td>\n    </tr>\n    <tr>\n      <th>3</th>\n      <td>4</td>\n      <td>1</td>\n      <td>Property Damage Only Collision</td>\n      <td>Mid-Block (not related to intersection)</td>\n      <td>3</td>\n      <td>1</td>\n      <td>Daylight</td>\n      <td>4</td>\n      <td>3</td>\n    </tr>\n    <tr>\n      <th>4</th>\n      <td>5</td>\n      <td>2</td>\n      <td>Injury Collision</td>\n      <td>At Intersection (intersection related)</td>\n      <td>2</td>\n      <td>9</td>\n      <td>Daylight</td>\n      <td>2</td>\n      <td>1</td>\n    </tr>\n  </tbody>\n</table>\n</div>"
     },
     "metadata": {},
     "execution_count": 9
    }
   ],
   "source": [
    "AccidentData4.head()"
   ]
  },
  {
   "cell_type": "markdown",
   "metadata": {},
   "source": [
    "# Change LIGHTCOND attributes to integers"
   ]
  },
  {
   "cell_type": "code",
   "execution_count": 10,
   "metadata": {},
   "outputs": [],
   "source": [
    "AccidentData4.LIGHTCOND.replace(to_replace=['Dark - No Street Lights'],value='1', inplace = True)\n",
    "AccidentData4.LIGHTCOND.replace(to_replace=['Dark - Street Lights Off'],value='2', inplace = True)\n",
    "AccidentData4.LIGHTCOND.replace(to_replace=['Dark - Street Lights On'],value='3', inplace = True)\n",
    "AccidentData4.LIGHTCOND.replace(to_replace=['Dark - Unknown Lighting'],value='4', inplace = True)\n",
    "AccidentData4.LIGHTCOND.replace(to_replace=['Dawn'],value='5', inplace = True)\n",
    "AccidentData4.LIGHTCOND.replace(to_replace=['Daylight'],value='6', inplace = True)\n",
    "AccidentData4.LIGHTCOND.replace(to_replace=['Dusk'],value='7', inplace = True)\n",
    "AccidentData4.LIGHTCOND.replace(to_replace=['Other'],value='8', inplace = True)\n",
    "AccidentData4.LIGHTCOND.replace(to_replace=['Unknown'],value='9', inplace = True)"
   ]
  },
  {
   "cell_type": "code",
   "execution_count": 11,
   "metadata": {},
   "outputs": [
    {
     "output_type": "execute_result",
     "data": {
      "text/plain": "   OBJECTID  SEVERITYCODE                    SEVERITYDESC  \\\n0         1             2                Injury Collision   \n1         2             1  Property Damage Only Collision   \n2         3             1  Property Damage Only Collision   \n3         4             1  Property Damage Only Collision   \n4         5             2                Injury Collision   \n\n                              JUNCTIONTYPE WEATHER ROADCOND LIGHTCOND  \\\n0   At Intersection (intersection related)       1        9         6   \n1  Mid-Block (not related to intersection)       2        9         3   \n2  Mid-Block (not related to intersection)       1        1         6   \n3  Mid-Block (not related to intersection)       3        1         6   \n4   At Intersection (intersection related)       2        9         6   \n\n   Day of week  Month of Year  \n0            2              3  \n1            2             12  \n2            3             11  \n3            4              3  \n4            2              1  ",
      "text/html": "<div>\n<style scoped>\n    .dataframe tbody tr th:only-of-type {\n        vertical-align: middle;\n    }\n\n    .dataframe tbody tr th {\n        vertical-align: top;\n    }\n\n    .dataframe thead th {\n        text-align: right;\n    }\n</style>\n<table border=\"1\" class=\"dataframe\">\n  <thead>\n    <tr style=\"text-align: right;\">\n      <th></th>\n      <th>OBJECTID</th>\n      <th>SEVERITYCODE</th>\n      <th>SEVERITYDESC</th>\n      <th>JUNCTIONTYPE</th>\n      <th>WEATHER</th>\n      <th>ROADCOND</th>\n      <th>LIGHTCOND</th>\n      <th>Day of week</th>\n      <th>Month of Year</th>\n    </tr>\n  </thead>\n  <tbody>\n    <tr>\n      <th>0</th>\n      <td>1</td>\n      <td>2</td>\n      <td>Injury Collision</td>\n      <td>At Intersection (intersection related)</td>\n      <td>1</td>\n      <td>9</td>\n      <td>6</td>\n      <td>2</td>\n      <td>3</td>\n    </tr>\n    <tr>\n      <th>1</th>\n      <td>2</td>\n      <td>1</td>\n      <td>Property Damage Only Collision</td>\n      <td>Mid-Block (not related to intersection)</td>\n      <td>2</td>\n      <td>9</td>\n      <td>3</td>\n      <td>2</td>\n      <td>12</td>\n    </tr>\n    <tr>\n      <th>2</th>\n      <td>3</td>\n      <td>1</td>\n      <td>Property Damage Only Collision</td>\n      <td>Mid-Block (not related to intersection)</td>\n      <td>1</td>\n      <td>1</td>\n      <td>6</td>\n      <td>3</td>\n      <td>11</td>\n    </tr>\n    <tr>\n      <th>3</th>\n      <td>4</td>\n      <td>1</td>\n      <td>Property Damage Only Collision</td>\n      <td>Mid-Block (not related to intersection)</td>\n      <td>3</td>\n      <td>1</td>\n      <td>6</td>\n      <td>4</td>\n      <td>3</td>\n    </tr>\n    <tr>\n      <th>4</th>\n      <td>5</td>\n      <td>2</td>\n      <td>Injury Collision</td>\n      <td>At Intersection (intersection related)</td>\n      <td>2</td>\n      <td>9</td>\n      <td>6</td>\n      <td>2</td>\n      <td>1</td>\n    </tr>\n  </tbody>\n</table>\n</div>"
     },
     "metadata": {},
     "execution_count": 11
    }
   ],
   "source": [
    "AccidentData4.head()"
   ]
  },
  {
   "cell_type": "markdown",
   "metadata": {},
   "source": [
    "# Change JUNCTIONTYPE attributes to integers"
   ]
  },
  {
   "cell_type": "code",
   "execution_count": 12,
   "metadata": {},
   "outputs": [],
   "source": [
    "AccidentData4.JUNCTIONTYPE.replace(to_replace=['At Intersection (but not related to intersection)'],value='1', inplace = True)\n",
    "AccidentData4.JUNCTIONTYPE.replace(to_replace=['At Intersection (intersection related)'],value='2', inplace = True)\n",
    "AccidentData4.JUNCTIONTYPE.replace(to_replace=['Driveway Junction'],value='3', inplace = True)\n",
    "AccidentData4.JUNCTIONTYPE.replace(to_replace=['Mid-Block (but intersection related)'],value='3', inplace = True)\n",
    "AccidentData4.JUNCTIONTYPE.replace(to_replace=['Mid-Block (not related to intersection)'],value='3', inplace = True)\n",
    "AccidentData4.JUNCTIONTYPE.replace(to_replace=['Ramp Junction'],value='4', inplace = True)\n",
    "AccidentData4.JUNCTIONTYPE.replace(to_replace=['Unknown'],value='6', inplace = True)"
   ]
  },
  {
   "cell_type": "code",
   "execution_count": 13,
   "metadata": {},
   "outputs": [
    {
     "output_type": "execute_result",
     "data": {
      "text/plain": "   OBJECTID  SEVERITYCODE                    SEVERITYDESC JUNCTIONTYPE  \\\n0         1             2                Injury Collision            2   \n1         2             1  Property Damage Only Collision            3   \n2         3             1  Property Damage Only Collision            3   \n3         4             1  Property Damage Only Collision            3   \n4         5             2                Injury Collision            2   \n\n  WEATHER ROADCOND LIGHTCOND  Day of week  Month of Year  \n0       1        9         6            2              3  \n1       2        9         3            2             12  \n2       1        1         6            3             11  \n3       3        1         6            4              3  \n4       2        9         6            2              1  ",
      "text/html": "<div>\n<style scoped>\n    .dataframe tbody tr th:only-of-type {\n        vertical-align: middle;\n    }\n\n    .dataframe tbody tr th {\n        vertical-align: top;\n    }\n\n    .dataframe thead th {\n        text-align: right;\n    }\n</style>\n<table border=\"1\" class=\"dataframe\">\n  <thead>\n    <tr style=\"text-align: right;\">\n      <th></th>\n      <th>OBJECTID</th>\n      <th>SEVERITYCODE</th>\n      <th>SEVERITYDESC</th>\n      <th>JUNCTIONTYPE</th>\n      <th>WEATHER</th>\n      <th>ROADCOND</th>\n      <th>LIGHTCOND</th>\n      <th>Day of week</th>\n      <th>Month of Year</th>\n    </tr>\n  </thead>\n  <tbody>\n    <tr>\n      <th>0</th>\n      <td>1</td>\n      <td>2</td>\n      <td>Injury Collision</td>\n      <td>2</td>\n      <td>1</td>\n      <td>9</td>\n      <td>6</td>\n      <td>2</td>\n      <td>3</td>\n    </tr>\n    <tr>\n      <th>1</th>\n      <td>2</td>\n      <td>1</td>\n      <td>Property Damage Only Collision</td>\n      <td>3</td>\n      <td>2</td>\n      <td>9</td>\n      <td>3</td>\n      <td>2</td>\n      <td>12</td>\n    </tr>\n    <tr>\n      <th>2</th>\n      <td>3</td>\n      <td>1</td>\n      <td>Property Damage Only Collision</td>\n      <td>3</td>\n      <td>1</td>\n      <td>1</td>\n      <td>6</td>\n      <td>3</td>\n      <td>11</td>\n    </tr>\n    <tr>\n      <th>3</th>\n      <td>4</td>\n      <td>1</td>\n      <td>Property Damage Only Collision</td>\n      <td>3</td>\n      <td>3</td>\n      <td>1</td>\n      <td>6</td>\n      <td>4</td>\n      <td>3</td>\n    </tr>\n    <tr>\n      <th>4</th>\n      <td>5</td>\n      <td>2</td>\n      <td>Injury Collision</td>\n      <td>2</td>\n      <td>2</td>\n      <td>9</td>\n      <td>6</td>\n      <td>2</td>\n      <td>1</td>\n    </tr>\n  </tbody>\n</table>\n</div>"
     },
     "metadata": {},
     "execution_count": 13
    }
   ],
   "source": [
    "AccidentData4.head()"
   ]
  },
  {
   "cell_type": "markdown",
   "metadata": {},
   "source": [
    "Make sure in correct data format (int64)"
   ]
  },
  {
   "cell_type": "code",
   "execution_count": 24,
   "metadata": {},
   "outputs": [],
   "source": [
    "AccidentData4['JUNCTIONTYPE'] = AccidentData4['JUNCTIONTYPE'].astype(np.int64)\n",
    "AccidentData4['WEATHER'] = AccidentData4['WEATHER'].astype(np.int64)\n",
    "AccidentData4['ROADCOND'] = AccidentData4['ROADCOND'].astype(np.int64)\n",
    "AccidentData4['LIGHTCOND'] = AccidentData4['LIGHTCOND'].astype(np.int64)"
   ]
  },
  {
   "cell_type": "code",
   "execution_count": 25,
   "metadata": {},
   "outputs": [
    {
     "output_type": "execute_result",
     "data": {
      "text/plain": "OBJECTID          int64\nSEVERITYCODE      int64\nSEVERITYDESC     object\nJUNCTIONTYPE      int64\nWEATHER           int64\nROADCOND          int64\nLIGHTCOND         int64\nDay of week       int64\nMonth of Year     int64\ndtype: object"
     },
     "metadata": {},
     "execution_count": 25
    }
   ],
   "source": [
    "AccidentData4.dtypes"
   ]
  },
  {
   "cell_type": "markdown",
   "metadata": {},
   "source": [
    "# Drop SEVERITY DESCRIPTION column"
   ]
  },
  {
   "cell_type": "code",
   "execution_count": 27,
   "metadata": {},
   "outputs": [],
   "source": [
    "AccidentData4.drop(['SEVERITYDESC'], axis = 1, inplace = True)"
   ]
  },
  {
   "cell_type": "code",
   "execution_count": 28,
   "metadata": {},
   "outputs": [
    {
     "output_type": "execute_result",
     "data": {
      "text/plain": "   OBJECTID  SEVERITYCODE  JUNCTIONTYPE  WEATHER  ROADCOND  LIGHTCOND  \\\n0         1             2             2        1         9          6   \n1         2             1             3        2         9          3   \n2         3             1             3        1         1          6   \n3         4             1             3        3         1          6   \n4         5             2             2        2         9          6   \n\n   Day of week  Month of Year  \n0            2              3  \n1            2             12  \n2            3             11  \n3            4              3  \n4            2              1  ",
      "text/html": "<div>\n<style scoped>\n    .dataframe tbody tr th:only-of-type {\n        vertical-align: middle;\n    }\n\n    .dataframe tbody tr th {\n        vertical-align: top;\n    }\n\n    .dataframe thead th {\n        text-align: right;\n    }\n</style>\n<table border=\"1\" class=\"dataframe\">\n  <thead>\n    <tr style=\"text-align: right;\">\n      <th></th>\n      <th>OBJECTID</th>\n      <th>SEVERITYCODE</th>\n      <th>JUNCTIONTYPE</th>\n      <th>WEATHER</th>\n      <th>ROADCOND</th>\n      <th>LIGHTCOND</th>\n      <th>Day of week</th>\n      <th>Month of Year</th>\n    </tr>\n  </thead>\n  <tbody>\n    <tr>\n      <th>0</th>\n      <td>1</td>\n      <td>2</td>\n      <td>2</td>\n      <td>1</td>\n      <td>9</td>\n      <td>6</td>\n      <td>2</td>\n      <td>3</td>\n    </tr>\n    <tr>\n      <th>1</th>\n      <td>2</td>\n      <td>1</td>\n      <td>3</td>\n      <td>2</td>\n      <td>9</td>\n      <td>3</td>\n      <td>2</td>\n      <td>12</td>\n    </tr>\n    <tr>\n      <th>2</th>\n      <td>3</td>\n      <td>1</td>\n      <td>3</td>\n      <td>1</td>\n      <td>1</td>\n      <td>6</td>\n      <td>3</td>\n      <td>11</td>\n    </tr>\n    <tr>\n      <th>3</th>\n      <td>4</td>\n      <td>1</td>\n      <td>3</td>\n      <td>3</td>\n      <td>1</td>\n      <td>6</td>\n      <td>4</td>\n      <td>3</td>\n    </tr>\n    <tr>\n      <th>4</th>\n      <td>5</td>\n      <td>2</td>\n      <td>2</td>\n      <td>2</td>\n      <td>9</td>\n      <td>6</td>\n      <td>2</td>\n      <td>1</td>\n    </tr>\n  </tbody>\n</table>\n</div>"
     },
     "metadata": {},
     "execution_count": 28
    }
   ],
   "source": [
    "AccidentData4.head()"
   ]
  },
  {
   "cell_type": "code",
   "execution_count": 29,
   "metadata": {},
   "outputs": [
    {
     "output_type": "execute_result",
     "data": {
      "text/plain": "189337"
     },
     "metadata": {},
     "execution_count": 29
    }
   ],
   "source": [
    "len(AccidentData4.index)"
   ]
  },
  {
   "cell_type": "code",
   "execution_count": 30,
   "metadata": {},
   "outputs": [],
   "source": [
    "# Export pandas dataframe to laptop for further use in analysis\n",
    "AccidentData4.to_csv(r'E:\\Training Development\\Coursera\\IBM Data Science\\Course 9 - Capstone Project\\Capstone Project Data\\AccidentData_4.csv', index = None, header = True)"
   ]
  }
 ]
}